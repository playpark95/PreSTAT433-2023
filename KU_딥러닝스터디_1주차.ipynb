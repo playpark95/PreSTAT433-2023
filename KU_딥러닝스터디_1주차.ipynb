{
  "nbformat": 4,
  "nbformat_minor": 0,
  "metadata": {
    "colab": {
      "provenance": [],
      "include_colab_link": true
    },
    "kernelspec": {
      "name": "python3",
      "display_name": "Python 3"
    },
    "language_info": {
      "name": "python"
    }
  },
  "cells": [
    {
      "cell_type": "markdown",
      "metadata": {
        "id": "view-in-github",
        "colab_type": "text"
      },
      "source": [
        "<a href=\"https://colab.research.google.com/github/playpark95/PreSTAT433-2023_Observer2/blob/main/KU_%EB%94%A5%EB%9F%AC%EB%8B%9D%EC%8A%A4%ED%84%B0%EB%94%94_1%EC%A3%BC%EC%B0%A8.ipynb\" target=\"_parent\"><img src=\"https://colab.research.google.com/assets/colab-badge.svg\" alt=\"Open In Colab\"/></a>"
      ]
    },
    {
      "cell_type": "code",
      "execution_count": null,
      "metadata": {
        "id": "23m5LRRjoz3C"
      },
      "outputs": [],
      "source": [
        "import numpy as np"
      ]
    },
    {
      "cell_type": "code",
      "source": [
        "x = np.random.rand(100, 1)\n",
        "x.shape"
      ],
      "metadata": {
        "colab": {
          "base_uri": "https://localhost:8080/"
        },
        "id": "vAD0ALZYpbxr",
        "outputId": "4acbce52-61f3-40d3-de9d-2b1e5f9610a8"
      },
      "execution_count": null,
      "outputs": [
        {
          "output_type": "execute_result",
          "data": {
            "text/plain": [
              "(100, 1)"
            ]
          },
          "metadata": {},
          "execution_count": 8
        }
      ]
    },
    {
      "cell_type": "code",
      "source": [
        "import time\n",
        "def timer(func):\n",
        "    def wrapper(*args, **kwargs):\n",
        "        start_time = time.time()\n",
        "        result = func(*args, **kwargs)\n",
        "        end_time = time.time()\n",
        "        computation_time = end_time - start_time\n",
        "        print(f\"Execution time of {func.__name__}: {computation_time} seconds\")\n",
        "        return result\n",
        "    return wrapper"
      ],
      "metadata": {
        "id": "GEuORDydqQq9"
      },
      "execution_count": null,
      "outputs": []
    },
    {
      "cell_type": "code",
      "source": [
        "true_b = 1\n",
        "true_w = 2\n",
        "N = 100 # number of data\n",
        "\n",
        "np.random.seed(42)\n",
        "x = np.random.rand(N, 1)\n",
        "epsilon = 0.1 * np.random.randn(N, 1)\n",
        "y = true_b + true_w * x + epsilon"
      ],
      "metadata": {
        "id": "2EB2aLEVpDQb"
      },
      "execution_count": null,
      "outputs": []
    },
    {
      "cell_type": "code",
      "source": [
        "# Shuffles the indices\n",
        "idx = np.arange(N)\n",
        "split_index = int(N * 0.8) # train-validation split\n",
        "\n",
        "train_idx = idx[:split_index]\n",
        "val_idx = idx[split_index:]\n",
        "\n",
        "# Generates train and validation sets\n",
        "x_train, y_train = x[train_idx], y[train_idx]\n",
        "x_val, y_val = x[val_idx], y[val_idx]"
      ],
      "metadata": {
        "id": "keOQFZQ3q7ky"
      },
      "execution_count": null,
      "outputs": []
    },
    {
      "cell_type": "code",
      "source": [
        "@timer\n",
        "def train_model_numpy(lr=0.1, epochs=1000):\n",
        "\n",
        "    # Initialize parameters\n",
        "    b = np.random.randn(1)\n",
        "    w = np.random.randn(1)\n",
        "\n",
        "    for epoch in range(epochs):\n",
        "        # Loss computation\n",
        "        y_hat = b + w * x_train\n",
        "        error = (y_hat - y_train)\n",
        "        mse_loss = np.mean(error ** 2)\n",
        "\n",
        "        # Gradient computation\n",
        "        b_grad = 2 * np.mean(error)\n",
        "        w_grad = 2 * np.mean(x_train * error)\n",
        "\n",
        "        b = b - lr * b_grad\n",
        "        w = w - lr * w_grad\n",
        "\n",
        "    return b, w"
      ],
      "metadata": {
        "id": "08OJYWjT2GY9"
      },
      "execution_count": null,
      "outputs": []
    },
    {
      "cell_type": "code",
      "source": [
        "b_hat, w_hat = train_model_numpy()\n",
        "print(\"b_estimate:{}, w_estimate: {}\".format(b_hat, w_hat))"
      ],
      "metadata": {
        "colab": {
          "base_uri": "https://localhost:8080/"
        },
        "id": "raCSYTP32I5R",
        "outputId": "29c1870e-3045-4de1-89ff-a34e0e98c627"
      },
      "execution_count": null,
      "outputs": [
        {
          "output_type": "stream",
          "name": "stdout",
          "text": [
            "Execution time of train_model_numpy: 0.0705268383026123 seconds\n",
            "b_estimate:[1.02341376], w_estimate: [1.93680725]\n"
          ]
        }
      ]
    },
    {
      "cell_type": "code",
      "source": [
        "import torch"
      ],
      "metadata": {
        "id": "RFS8vjBa2KyR"
      },
      "execution_count": null,
      "outputs": []
    },
    {
      "cell_type": "code",
      "source": [
        "# create tensor at GPU\n",
        "device = 'cuda' if torch.cuda.is_available() else 'cpu'\n",
        "x_train_tensor = torch.as_tensor(x_train).to(device)\n",
        "y_train_tensor = torch.as_tensor(y_train).to(device)"
      ],
      "metadata": {
        "id": "y50Zc5CuAnJF"
      },
      "execution_count": null,
      "outputs": []
    },
    {
      "cell_type": "code",
      "source": [
        "@timer\n",
        "def train_model_torch(lr=0.1, epochs=1000):\n",
        "\n",
        "    # Initialize parameters\n",
        "    b = torch.randn(1, requires_grad=True, dtype=torch.float, device=device)\n",
        "    w = torch.randn(1, requires_grad=True, dtype=torch.float, device=device)\n",
        "\n",
        "    for epoch in range(epochs):\n",
        "        # Loss computation\n",
        "        y_hat = b + w * x_train_tensor\n",
        "        error = (y_hat - y_train_tensor)\n",
        "        mse_loss = torch.mean(error ** 2)\n",
        "\n",
        "        # Gradient computation\n",
        "        mse_loss.backward()\n",
        "\n",
        "        # Warning: this makes training extremly slow and memory inefficienty\n",
        "        b = b - lr * b.grad\n",
        "        w = w - lr * w.grad\n",
        "\n",
        "        # Auxiliary code\n",
        "        b.retain_grad(), w.retain_grad()\n",
        "\n",
        "    return b, w"
      ],
      "metadata": {
        "id": "QT1X9ZJ_Apeo"
      },
      "execution_count": null,
      "outputs": []
    },
    {
      "cell_type": "code",
      "source": [
        "b_hat, w_hat = train_model_torch(epochs=10)\n",
        "print(\"b_estimate:{}, w_estimate: {}\".format(b_hat, w_hat))"
      ],
      "metadata": {
        "colab": {
          "base_uri": "https://localhost:8080/"
        },
        "id": "6pfyFXheAtKt",
        "outputId": "264ac1ff-5483-4694-c37c-405f395864c9"
      },
      "execution_count": null,
      "outputs": [
        {
          "output_type": "stream",
          "name": "stdout",
          "text": [
            "Execution time of train_model_torch: 0.01446676254272461 seconds\n",
            "b_estimate:tensor([1.4763], grad_fn=<SubBackward0>), w_estimate: tensor([0.7159], grad_fn=<SubBackward0>)\n"
          ]
        }
      ]
    },
    {
      "cell_type": "code",
      "source": [
        "!pip install torchviz"
      ],
      "metadata": {
        "colab": {
          "base_uri": "https://localhost:8080/"
        },
        "id": "4kC5TAsxAyp2",
        "outputId": "febb93ee-1a61-4c62-ad4a-b061dde3f0b6"
      },
      "execution_count": null,
      "outputs": [
        {
          "output_type": "stream",
          "name": "stdout",
          "text": [
            "Requirement already satisfied: torchviz in /usr/local/lib/python3.10/dist-packages (0.0.2)\n",
            "Requirement already satisfied: torch in /usr/local/lib/python3.10/dist-packages (from torchviz) (2.0.1+cu118)\n",
            "Requirement already satisfied: graphviz in /usr/local/lib/python3.10/dist-packages (from torchviz) (0.20.1)\n",
            "Requirement already satisfied: filelock in /usr/local/lib/python3.10/dist-packages (from torch->torchviz) (3.12.2)\n",
            "Requirement already satisfied: typing-extensions in /usr/local/lib/python3.10/dist-packages (from torch->torchviz) (4.7.1)\n",
            "Requirement already satisfied: sympy in /usr/local/lib/python3.10/dist-packages (from torch->torchviz) (1.11.1)\n",
            "Requirement already satisfied: networkx in /usr/local/lib/python3.10/dist-packages (from torch->torchviz) (3.1)\n",
            "Requirement already satisfied: jinja2 in /usr/local/lib/python3.10/dist-packages (from torch->torchviz) (3.1.2)\n",
            "Requirement already satisfied: triton==2.0.0 in /usr/local/lib/python3.10/dist-packages (from torch->torchviz) (2.0.0)\n",
            "Requirement already satisfied: cmake in /usr/local/lib/python3.10/dist-packages (from triton==2.0.0->torch->torchviz) (3.25.2)\n",
            "Requirement already satisfied: lit in /usr/local/lib/python3.10/dist-packages (from triton==2.0.0->torch->torchviz) (16.0.6)\n",
            "Requirement already satisfied: MarkupSafe>=2.0 in /usr/local/lib/python3.10/dist-packages (from jinja2->torch->torchviz) (2.1.3)\n",
            "Requirement already satisfied: mpmath>=0.19 in /usr/local/lib/python3.10/dist-packages (from sympy->torch->torchviz) (1.3.0)\n"
          ]
        }
      ]
    },
    {
      "cell_type": "code",
      "source": [
        "from torchviz import make_dot\n",
        "y_hat = b_hat + w_hat * x_train_tensor\n",
        "make_dot(y_hat)"
      ],
      "metadata": {
        "colab": {
          "base_uri": "https://localhost:8080/",
          "height": 1000
        },
        "id": "ZFsRtbR-BCPW",
        "outputId": "25af0282-547c-4a73-8927-fc036c7e3837"
      },
      "execution_count": null,
      "outputs": [
        {
          "output_type": "execute_result",
          "data": {
            "image/svg+xml": "<?xml version=\"1.0\" encoding=\"UTF-8\" standalone=\"no\"?>\n<!DOCTYPE svg PUBLIC \"-//W3C//DTD SVG 1.1//EN\"\n \"http://www.w3.org/Graphics/SVG/1.1/DTD/svg11.dtd\">\n<!-- Generated by graphviz version 2.43.0 (0)\n -->\n<!-- Title: %3 Pages: 1 -->\n<svg width=\"222pt\" height=\"833pt\"\n viewBox=\"0.00 0.00 222.00 833.00\" xmlns=\"http://www.w3.org/2000/svg\" xmlns:xlink=\"http://www.w3.org/1999/xlink\">\n<g id=\"graph0\" class=\"graph\" transform=\"scale(1 1) rotate(0) translate(4 829)\">\n<title>%3</title>\n<polygon fill=\"white\" stroke=\"transparent\" points=\"-4,4 -4,-829 218,-829 218,4 -4,4\"/>\n<!-- 140326658529520 -->\n<g id=\"node1\" class=\"node\">\n<title>140326658529520</title>\n<polygon fill=\"#caff70\" stroke=\"black\" points=\"141,-31 76,-31 76,0 141,0 141,-31\"/>\n<text text-anchor=\"middle\" x=\"108.5\" y=\"-7\" font-family=\"monospace\" font-size=\"10.00\"> (80, 1)</text>\n</g>\n<!-- 140326659685632 -->\n<g id=\"node2\" class=\"node\">\n<title>140326659685632</title>\n<polygon fill=\"lightgrey\" stroke=\"black\" points=\"153,-86 64,-86 64,-67 153,-67 153,-86\"/>\n<text text-anchor=\"middle\" x=\"108.5\" y=\"-74\" font-family=\"monospace\" font-size=\"10.00\">AddBackward0</text>\n</g>\n<!-- 140326659685632&#45;&gt;140326658529520 -->\n<g id=\"edge26\" class=\"edge\">\n<title>140326659685632&#45;&gt;140326658529520</title>\n<path fill=\"none\" stroke=\"black\" d=\"M108.5,-66.79C108.5,-60.07 108.5,-50.4 108.5,-41.34\"/>\n<polygon fill=\"black\" stroke=\"black\" points=\"112,-41.19 108.5,-31.19 105,-41.19 112,-41.19\"/>\n</g>\n<!-- 140329686750048 -->\n<g id=\"node3\" class=\"node\">\n<title>140329686750048</title>\n<polygon fill=\"lightgrey\" stroke=\"black\" points=\"100,-141 11,-141 11,-122 100,-122 100,-141\"/>\n<text text-anchor=\"middle\" x=\"55.5\" y=\"-129\" font-family=\"monospace\" font-size=\"10.00\">SubBackward0</text>\n</g>\n<!-- 140329686750048&#45;&gt;140326659685632 -->\n<g id=\"edge1\" class=\"edge\">\n<title>140329686750048&#45;&gt;140326659685632</title>\n<path fill=\"none\" stroke=\"black\" d=\"M64.25,-121.75C71.97,-114.03 83.4,-102.6 92.72,-93.28\"/>\n<polygon fill=\"black\" stroke=\"black\" points=\"95.31,-95.64 99.91,-86.09 90.36,-90.69 95.31,-95.64\"/>\n</g>\n<!-- 140329686753264 -->\n<g id=\"node4\" class=\"node\">\n<title>140329686753264</title>\n<polygon fill=\"lightgrey\" stroke=\"black\" points=\"97,-196 8,-196 8,-177 97,-177 97,-196\"/>\n<text text-anchor=\"middle\" x=\"52.5\" y=\"-184\" font-family=\"monospace\" font-size=\"10.00\">SubBackward0</text>\n</g>\n<!-- 140329686753264&#45;&gt;140329686750048 -->\n<g id=\"edge2\" class=\"edge\">\n<title>140329686753264&#45;&gt;140329686750048</title>\n<path fill=\"none\" stroke=\"black\" d=\"M53,-176.75C53.39,-169.8 53.95,-159.85 54.45,-151.13\"/>\n<polygon fill=\"black\" stroke=\"black\" points=\"57.94,-151.27 55.01,-141.09 50.95,-150.88 57.94,-151.27\"/>\n</g>\n<!-- 140329686757872 -->\n<g id=\"node5\" class=\"node\">\n<title>140329686757872</title>\n<polygon fill=\"lightgrey\" stroke=\"black\" points=\"96,-251 7,-251 7,-232 96,-232 96,-251\"/>\n<text text-anchor=\"middle\" x=\"51.5\" y=\"-239\" font-family=\"monospace\" font-size=\"10.00\">SubBackward0</text>\n</g>\n<!-- 140329686757872&#45;&gt;140329686753264 -->\n<g id=\"edge3\" class=\"edge\">\n<title>140329686757872&#45;&gt;140329686753264</title>\n<path fill=\"none\" stroke=\"black\" d=\"M51.67,-231.75C51.8,-224.8 51.98,-214.85 52.15,-206.13\"/>\n<polygon fill=\"black\" stroke=\"black\" points=\"55.65,-206.15 52.34,-196.09 48.65,-206.02 55.65,-206.15\"/>\n</g>\n<!-- 140329686755904 -->\n<g id=\"node6\" class=\"node\">\n<title>140329686755904</title>\n<polygon fill=\"lightgrey\" stroke=\"black\" points=\"95,-306 6,-306 6,-287 95,-287 95,-306\"/>\n<text text-anchor=\"middle\" x=\"50.5\" y=\"-294\" font-family=\"monospace\" font-size=\"10.00\">SubBackward0</text>\n</g>\n<!-- 140329686755904&#45;&gt;140329686757872 -->\n<g id=\"edge4\" class=\"edge\">\n<title>140329686755904&#45;&gt;140329686757872</title>\n<path fill=\"none\" stroke=\"black\" d=\"M50.67,-286.75C50.8,-279.8 50.98,-269.85 51.15,-261.13\"/>\n<polygon fill=\"black\" stroke=\"black\" points=\"54.65,-261.15 51.34,-251.09 47.65,-261.02 54.65,-261.15\"/>\n</g>\n<!-- 140329686761328 -->\n<g id=\"node7\" class=\"node\">\n<title>140329686761328</title>\n<polygon fill=\"lightgrey\" stroke=\"black\" points=\"95,-361 6,-361 6,-342 95,-342 95,-361\"/>\n<text text-anchor=\"middle\" x=\"50.5\" y=\"-349\" font-family=\"monospace\" font-size=\"10.00\">SubBackward0</text>\n</g>\n<!-- 140329686761328&#45;&gt;140329686755904 -->\n<g id=\"edge5\" class=\"edge\">\n<title>140329686761328&#45;&gt;140329686755904</title>\n<path fill=\"none\" stroke=\"black\" d=\"M50.5,-341.75C50.5,-334.8 50.5,-324.85 50.5,-316.13\"/>\n<polygon fill=\"black\" stroke=\"black\" points=\"54,-316.09 50.5,-306.09 47,-316.09 54,-316.09\"/>\n</g>\n<!-- 140329686750288 -->\n<g id=\"node8\" class=\"node\">\n<title>140329686750288</title>\n<polygon fill=\"lightgrey\" stroke=\"black\" points=\"95,-416 6,-416 6,-397 95,-397 95,-416\"/>\n<text text-anchor=\"middle\" x=\"50.5\" y=\"-404\" font-family=\"monospace\" font-size=\"10.00\">SubBackward0</text>\n</g>\n<!-- 140329686750288&#45;&gt;140329686761328 -->\n<g id=\"edge6\" class=\"edge\">\n<title>140329686750288&#45;&gt;140329686761328</title>\n<path fill=\"none\" stroke=\"black\" d=\"M50.5,-396.75C50.5,-389.8 50.5,-379.85 50.5,-371.13\"/>\n<polygon fill=\"black\" stroke=\"black\" points=\"54,-371.09 50.5,-361.09 47,-371.09 54,-371.09\"/>\n</g>\n<!-- 140329686754176 -->\n<g id=\"node9\" class=\"node\">\n<title>140329686754176</title>\n<polygon fill=\"lightgrey\" stroke=\"black\" points=\"95,-471 6,-471 6,-452 95,-452 95,-471\"/>\n<text text-anchor=\"middle\" x=\"50.5\" y=\"-459\" font-family=\"monospace\" font-size=\"10.00\">SubBackward0</text>\n</g>\n<!-- 140329686754176&#45;&gt;140329686750288 -->\n<g id=\"edge7\" class=\"edge\">\n<title>140329686754176&#45;&gt;140329686750288</title>\n<path fill=\"none\" stroke=\"black\" d=\"M50.5,-451.75C50.5,-444.8 50.5,-434.85 50.5,-426.13\"/>\n<polygon fill=\"black\" stroke=\"black\" points=\"54,-426.09 50.5,-416.09 47,-426.09 54,-426.09\"/>\n</g>\n<!-- 140326659764672 -->\n<g id=\"node10\" class=\"node\">\n<title>140326659764672</title>\n<polygon fill=\"lightgrey\" stroke=\"black\" points=\"95,-526 6,-526 6,-507 95,-507 95,-526\"/>\n<text text-anchor=\"middle\" x=\"50.5\" y=\"-514\" font-family=\"monospace\" font-size=\"10.00\">SubBackward0</text>\n</g>\n<!-- 140326659764672&#45;&gt;140329686754176 -->\n<g id=\"edge8\" class=\"edge\">\n<title>140326659764672&#45;&gt;140329686754176</title>\n<path fill=\"none\" stroke=\"black\" d=\"M50.5,-506.75C50.5,-499.8 50.5,-489.85 50.5,-481.13\"/>\n<polygon fill=\"black\" stroke=\"black\" points=\"54,-481.09 50.5,-471.09 47,-481.09 54,-481.09\"/>\n</g>\n<!-- 140326659766976 -->\n<g id=\"node11\" class=\"node\">\n<title>140326659766976</title>\n<polygon fill=\"lightgrey\" stroke=\"black\" points=\"95,-581 6,-581 6,-562 95,-562 95,-581\"/>\n<text text-anchor=\"middle\" x=\"50.5\" y=\"-569\" font-family=\"monospace\" font-size=\"10.00\">SubBackward0</text>\n</g>\n<!-- 140326659766976&#45;&gt;140326659764672 -->\n<g id=\"edge9\" class=\"edge\">\n<title>140326659766976&#45;&gt;140326659764672</title>\n<path fill=\"none\" stroke=\"black\" d=\"M50.5,-561.75C50.5,-554.8 50.5,-544.85 50.5,-536.13\"/>\n<polygon fill=\"black\" stroke=\"black\" points=\"54,-536.09 50.5,-526.09 47,-536.09 54,-536.09\"/>\n</g>\n<!-- 140326659759104 -->\n<g id=\"node12\" class=\"node\">\n<title>140326659759104</title>\n<polygon fill=\"lightgrey\" stroke=\"black\" points=\"95,-636 6,-636 6,-617 95,-617 95,-636\"/>\n<text text-anchor=\"middle\" x=\"50.5\" y=\"-624\" font-family=\"monospace\" font-size=\"10.00\">SubBackward0</text>\n</g>\n<!-- 140326659759104&#45;&gt;140326659766976 -->\n<g id=\"edge10\" class=\"edge\">\n<title>140326659759104&#45;&gt;140326659766976</title>\n<path fill=\"none\" stroke=\"black\" d=\"M50.5,-616.75C50.5,-609.8 50.5,-599.85 50.5,-591.13\"/>\n<polygon fill=\"black\" stroke=\"black\" points=\"54,-591.09 50.5,-581.09 47,-591.09 54,-591.09\"/>\n</g>\n<!-- 140326659753056 -->\n<g id=\"node13\" class=\"node\">\n<title>140326659753056</title>\n<polygon fill=\"lightgrey\" stroke=\"black\" points=\"101,-691 0,-691 0,-672 101,-672 101,-691\"/>\n<text text-anchor=\"middle\" x=\"50.5\" y=\"-679\" font-family=\"monospace\" font-size=\"10.00\">AccumulateGrad</text>\n</g>\n<!-- 140326659753056&#45;&gt;140326659759104 -->\n<g id=\"edge11\" class=\"edge\">\n<title>140326659753056&#45;&gt;140326659759104</title>\n<path fill=\"none\" stroke=\"black\" d=\"M50.5,-671.75C50.5,-664.8 50.5,-654.85 50.5,-646.13\"/>\n<polygon fill=\"black\" stroke=\"black\" points=\"54,-646.09 50.5,-636.09 47,-646.09 54,-646.09\"/>\n</g>\n<!-- 140326658528400 -->\n<g id=\"node14\" class=\"node\">\n<title>140326658528400</title>\n<polygon fill=\"lightblue\" stroke=\"black\" points=\"77.5,-758 23.5,-758 23.5,-727 77.5,-727 77.5,-758\"/>\n<text text-anchor=\"middle\" x=\"50.5\" y=\"-734\" font-family=\"monospace\" font-size=\"10.00\"> (1)</text>\n</g>\n<!-- 140326658528400&#45;&gt;140326659753056 -->\n<g id=\"edge12\" class=\"edge\">\n<title>140326658528400&#45;&gt;140326659753056</title>\n<path fill=\"none\" stroke=\"black\" d=\"M50.5,-726.92C50.5,-719.22 50.5,-709.69 50.5,-701.43\"/>\n<polygon fill=\"black\" stroke=\"black\" points=\"54,-701.25 50.5,-691.25 47,-701.25 54,-701.25\"/>\n</g>\n<!-- 140329686758448 -->\n<g id=\"node15\" class=\"node\">\n<title>140329686758448</title>\n<polygon fill=\"lightgrey\" stroke=\"black\" points=\"207,-141 118,-141 118,-122 207,-122 207,-141\"/>\n<text text-anchor=\"middle\" x=\"162.5\" y=\"-129\" font-family=\"monospace\" font-size=\"10.00\">MulBackward0</text>\n</g>\n<!-- 140329686758448&#45;&gt;140326659685632 -->\n<g id=\"edge13\" class=\"edge\">\n<title>140329686758448&#45;&gt;140326659685632</title>\n<path fill=\"none\" stroke=\"black\" d=\"M153.58,-121.75C145.72,-114.03 134.07,-102.6 124.58,-93.28\"/>\n<polygon fill=\"black\" stroke=\"black\" points=\"126.84,-90.6 117.25,-86.09 121.94,-95.59 126.84,-90.6\"/>\n</g>\n<!-- 140329686750528 -->\n<g id=\"node16\" class=\"node\">\n<title>140329686750528</title>\n<polygon fill=\"lightgrey\" stroke=\"black\" points=\"207,-196 118,-196 118,-177 207,-177 207,-196\"/>\n<text text-anchor=\"middle\" x=\"162.5\" y=\"-184\" font-family=\"monospace\" font-size=\"10.00\">SubBackward0</text>\n</g>\n<!-- 140329686750528&#45;&gt;140329686758448 -->\n<g id=\"edge14\" class=\"edge\">\n<title>140329686750528&#45;&gt;140329686758448</title>\n<path fill=\"none\" stroke=\"black\" d=\"M162.5,-176.75C162.5,-169.8 162.5,-159.85 162.5,-151.13\"/>\n<polygon fill=\"black\" stroke=\"black\" points=\"166,-151.09 162.5,-141.09 159,-151.09 166,-151.09\"/>\n</g>\n<!-- 140329686747360 -->\n<g id=\"node17\" class=\"node\">\n<title>140329686747360</title>\n<polygon fill=\"lightgrey\" stroke=\"black\" points=\"207,-251 118,-251 118,-232 207,-232 207,-251\"/>\n<text text-anchor=\"middle\" x=\"162.5\" y=\"-239\" font-family=\"monospace\" font-size=\"10.00\">SubBackward0</text>\n</g>\n<!-- 140329686747360&#45;&gt;140329686750528 -->\n<g id=\"edge15\" class=\"edge\">\n<title>140329686747360&#45;&gt;140329686750528</title>\n<path fill=\"none\" stroke=\"black\" d=\"M162.5,-231.75C162.5,-224.8 162.5,-214.85 162.5,-206.13\"/>\n<polygon fill=\"black\" stroke=\"black\" points=\"166,-206.09 162.5,-196.09 159,-206.09 166,-206.09\"/>\n</g>\n<!-- 140329686751344 -->\n<g id=\"node18\" class=\"node\">\n<title>140329686751344</title>\n<polygon fill=\"lightgrey\" stroke=\"black\" points=\"207,-306 118,-306 118,-287 207,-287 207,-306\"/>\n<text text-anchor=\"middle\" x=\"162.5\" y=\"-294\" font-family=\"monospace\" font-size=\"10.00\">SubBackward0</text>\n</g>\n<!-- 140329686751344&#45;&gt;140329686747360 -->\n<g id=\"edge16\" class=\"edge\">\n<title>140329686751344&#45;&gt;140329686747360</title>\n<path fill=\"none\" stroke=\"black\" d=\"M162.5,-286.75C162.5,-279.8 162.5,-269.85 162.5,-261.13\"/>\n<polygon fill=\"black\" stroke=\"black\" points=\"166,-261.09 162.5,-251.09 159,-261.09 166,-261.09\"/>\n</g>\n<!-- 140326659765152 -->\n<g id=\"node19\" class=\"node\">\n<title>140326659765152</title>\n<polygon fill=\"lightgrey\" stroke=\"black\" points=\"207,-361 118,-361 118,-342 207,-342 207,-361\"/>\n<text text-anchor=\"middle\" x=\"162.5\" y=\"-349\" font-family=\"monospace\" font-size=\"10.00\">SubBackward0</text>\n</g>\n<!-- 140326659765152&#45;&gt;140329686751344 -->\n<g id=\"edge17\" class=\"edge\">\n<title>140326659765152&#45;&gt;140329686751344</title>\n<path fill=\"none\" stroke=\"black\" d=\"M162.5,-341.75C162.5,-334.8 162.5,-324.85 162.5,-316.13\"/>\n<polygon fill=\"black\" stroke=\"black\" points=\"166,-316.09 162.5,-306.09 159,-316.09 166,-316.09\"/>\n</g>\n<!-- 140326659753536 -->\n<g id=\"node20\" class=\"node\">\n<title>140326659753536</title>\n<polygon fill=\"lightgrey\" stroke=\"black\" points=\"207,-416 118,-416 118,-397 207,-397 207,-416\"/>\n<text text-anchor=\"middle\" x=\"162.5\" y=\"-404\" font-family=\"monospace\" font-size=\"10.00\">SubBackward0</text>\n</g>\n<!-- 140326659753536&#45;&gt;140326659765152 -->\n<g id=\"edge18\" class=\"edge\">\n<title>140326659753536&#45;&gt;140326659765152</title>\n<path fill=\"none\" stroke=\"black\" d=\"M162.5,-396.75C162.5,-389.8 162.5,-379.85 162.5,-371.13\"/>\n<polygon fill=\"black\" stroke=\"black\" points=\"166,-371.09 162.5,-361.09 159,-371.09 166,-371.09\"/>\n</g>\n<!-- 140326659753440 -->\n<g id=\"node21\" class=\"node\">\n<title>140326659753440</title>\n<polygon fill=\"lightgrey\" stroke=\"black\" points=\"207,-471 118,-471 118,-452 207,-452 207,-471\"/>\n<text text-anchor=\"middle\" x=\"162.5\" y=\"-459\" font-family=\"monospace\" font-size=\"10.00\">SubBackward0</text>\n</g>\n<!-- 140326659753440&#45;&gt;140326659753536 -->\n<g id=\"edge19\" class=\"edge\">\n<title>140326659753440&#45;&gt;140326659753536</title>\n<path fill=\"none\" stroke=\"black\" d=\"M162.5,-451.75C162.5,-444.8 162.5,-434.85 162.5,-426.13\"/>\n<polygon fill=\"black\" stroke=\"black\" points=\"166,-426.09 162.5,-416.09 159,-426.09 166,-426.09\"/>\n</g>\n<!-- 140326659767648 -->\n<g id=\"node22\" class=\"node\">\n<title>140326659767648</title>\n<polygon fill=\"lightgrey\" stroke=\"black\" points=\"207,-526 118,-526 118,-507 207,-507 207,-526\"/>\n<text text-anchor=\"middle\" x=\"162.5\" y=\"-514\" font-family=\"monospace\" font-size=\"10.00\">SubBackward0</text>\n</g>\n<!-- 140326659767648&#45;&gt;140326659753440 -->\n<g id=\"edge20\" class=\"edge\">\n<title>140326659767648&#45;&gt;140326659753440</title>\n<path fill=\"none\" stroke=\"black\" d=\"M162.5,-506.75C162.5,-499.8 162.5,-489.85 162.5,-481.13\"/>\n<polygon fill=\"black\" stroke=\"black\" points=\"166,-481.09 162.5,-471.09 159,-481.09 166,-481.09\"/>\n</g>\n<!-- 140326659764576 -->\n<g id=\"node23\" class=\"node\">\n<title>140326659764576</title>\n<polygon fill=\"lightgrey\" stroke=\"black\" points=\"207,-581 118,-581 118,-562 207,-562 207,-581\"/>\n<text text-anchor=\"middle\" x=\"162.5\" y=\"-569\" font-family=\"monospace\" font-size=\"10.00\">SubBackward0</text>\n</g>\n<!-- 140326659764576&#45;&gt;140326659767648 -->\n<g id=\"edge21\" class=\"edge\">\n<title>140326659764576&#45;&gt;140326659767648</title>\n<path fill=\"none\" stroke=\"black\" d=\"M162.5,-561.75C162.5,-554.8 162.5,-544.85 162.5,-536.13\"/>\n<polygon fill=\"black\" stroke=\"black\" points=\"166,-536.09 162.5,-526.09 159,-536.09 166,-536.09\"/>\n</g>\n<!-- 140326659754880 -->\n<g id=\"node24\" class=\"node\">\n<title>140326659754880</title>\n<polygon fill=\"lightgrey\" stroke=\"black\" points=\"207,-636 118,-636 118,-617 207,-617 207,-636\"/>\n<text text-anchor=\"middle\" x=\"162.5\" y=\"-624\" font-family=\"monospace\" font-size=\"10.00\">SubBackward0</text>\n</g>\n<!-- 140326659754880&#45;&gt;140326659764576 -->\n<g id=\"edge22\" class=\"edge\">\n<title>140326659754880&#45;&gt;140326659764576</title>\n<path fill=\"none\" stroke=\"black\" d=\"M162.5,-616.75C162.5,-609.8 162.5,-599.85 162.5,-591.13\"/>\n<polygon fill=\"black\" stroke=\"black\" points=\"166,-591.09 162.5,-581.09 159,-591.09 166,-591.09\"/>\n</g>\n<!-- 140326659760160 -->\n<g id=\"node25\" class=\"node\">\n<title>140326659760160</title>\n<polygon fill=\"lightgrey\" stroke=\"black\" points=\"208,-691 119,-691 119,-672 208,-672 208,-691\"/>\n<text text-anchor=\"middle\" x=\"163.5\" y=\"-679\" font-family=\"monospace\" font-size=\"10.00\">SubBackward0</text>\n</g>\n<!-- 140326659760160&#45;&gt;140326659754880 -->\n<g id=\"edge23\" class=\"edge\">\n<title>140326659760160&#45;&gt;140326659754880</title>\n<path fill=\"none\" stroke=\"black\" d=\"M163.33,-671.75C163.2,-664.8 163.02,-654.85 162.85,-646.13\"/>\n<polygon fill=\"black\" stroke=\"black\" points=\"166.35,-646.02 162.66,-636.09 159.35,-646.15 166.35,-646.02\"/>\n</g>\n<!-- 140326659754592 -->\n<g id=\"node26\" class=\"node\">\n<title>140326659754592</title>\n<polygon fill=\"lightgrey\" stroke=\"black\" points=\"214,-752 113,-752 113,-733 214,-733 214,-752\"/>\n<text text-anchor=\"middle\" x=\"163.5\" y=\"-740\" font-family=\"monospace\" font-size=\"10.00\">AccumulateGrad</text>\n</g>\n<!-- 140326659754592&#45;&gt;140326659760160 -->\n<g id=\"edge24\" class=\"edge\">\n<title>140326659754592&#45;&gt;140326659760160</title>\n<path fill=\"none\" stroke=\"black\" d=\"M163.5,-732.79C163.5,-724.6 163.5,-712.06 163.5,-701.55\"/>\n<polygon fill=\"black\" stroke=\"black\" points=\"167,-701.24 163.5,-691.24 160,-701.24 167,-701.24\"/>\n</g>\n<!-- 140326658528560 -->\n<g id=\"node27\" class=\"node\">\n<title>140326658528560</title>\n<polygon fill=\"lightblue\" stroke=\"black\" points=\"190.5,-825 136.5,-825 136.5,-794 190.5,-794 190.5,-825\"/>\n<text text-anchor=\"middle\" x=\"163.5\" y=\"-801\" font-family=\"monospace\" font-size=\"10.00\"> (1)</text>\n</g>\n<!-- 140326658528560&#45;&gt;140326659754592 -->\n<g id=\"edge25\" class=\"edge\">\n<title>140326658528560&#45;&gt;140326659754592</title>\n<path fill=\"none\" stroke=\"black\" d=\"M163.5,-793.75C163.5,-784.39 163.5,-772.19 163.5,-762.16\"/>\n<polygon fill=\"black\" stroke=\"black\" points=\"167,-762.02 163.5,-752.02 160,-762.02 167,-762.02\"/>\n</g>\n</g>\n</svg>\n",
            "text/plain": [
              "<graphviz.graphs.Digraph at 0x7fa058b3ec80>"
            ]
          },
          "metadata": {},
          "execution_count": 25
        }
      ]
    },
    {
      "cell_type": "code",
      "source": [
        "@timer\n",
        "def train_model_torch(lr=0.1, epochs=1000):\n",
        "\n",
        "    # Initialize parameters\n",
        "    b = torch.randn(1, requires_grad=True, dtype=torch.float, device=device)\n",
        "    w = torch.randn(1, requires_grad=True, dtype=torch.float, device=device)\n",
        "\n",
        "    for epoch in range(epochs):\n",
        "        # Loss computation\n",
        "        y_hat = b + w * x_train_tensor\n",
        "        error = (y_hat - y_train_tensor)\n",
        "        mse_loss = torch.mean(error ** 2)\n",
        "\n",
        "        # Gradient computation\n",
        "        mse_loss.backward()\n",
        "\n",
        "        # Perform python operation without affecting computation graph\n",
        "        with torch.no_grad():\n",
        "            # in-place operation\n",
        "            b -= lr * b.grad\n",
        "            w -= lr * w.grad\n",
        "\n",
        "        b.grad.zero_()\n",
        "        w.grad.zero_()\n",
        "\n",
        "    return b, w"
      ],
      "metadata": {
        "id": "HfiXp7DTBEYY"
      },
      "execution_count": null,
      "outputs": []
    },
    {
      "cell_type": "code",
      "source": [
        "b_hat, w_hat = train_model_torch()\n",
        "print(\"b_estimate:{}, w_estimate: {}\".format(b_hat, w_hat))"
      ],
      "metadata": {
        "colab": {
          "base_uri": "https://localhost:8080/"
        },
        "id": "a9SsNn9pBXEP",
        "outputId": "8a0589b5-b77d-4e65-889d-37cef61044dc"
      },
      "execution_count": null,
      "outputs": [
        {
          "output_type": "stream",
          "name": "stdout",
          "text": [
            "Execution time of train_model_torch: 0.5316047668457031 seconds\n",
            "b_estimate:tensor([1.0234], requires_grad=True), w_estimate: tensor([1.9368], requires_grad=True)\n"
          ]
        }
      ]
    },
    {
      "cell_type": "code",
      "source": [
        "y_hat = b_hat + w_hat * x_train_tensor\n",
        "make_dot(y_hat)"
      ],
      "metadata": {
        "colab": {
          "base_uri": "https://localhost:8080/",
          "height": 398
        },
        "id": "4xD72mhMBYmC",
        "outputId": "9f6f4ad3-e793-4cab-f493-48a3d575353d"
      },
      "execution_count": null,
      "outputs": [
        {
          "output_type": "execute_result",
          "data": {
            "image/svg+xml": "<?xml version=\"1.0\" encoding=\"UTF-8\" standalone=\"no\"?>\n<!DOCTYPE svg PUBLIC \"-//W3C//DTD SVG 1.1//EN\"\n \"http://www.w3.org/Graphics/SVG/1.1/DTD/svg11.dtd\">\n<!-- Generated by graphviz version 2.43.0 (0)\n -->\n<!-- Title: %3 Pages: 1 -->\n<svg width=\"222pt\" height=\"283pt\"\n viewBox=\"0.00 0.00 222.00 283.00\" xmlns=\"http://www.w3.org/2000/svg\" xmlns:xlink=\"http://www.w3.org/1999/xlink\">\n<g id=\"graph0\" class=\"graph\" transform=\"scale(1 1) rotate(0) translate(4 279)\">\n<title>%3</title>\n<polygon fill=\"white\" stroke=\"transparent\" points=\"-4,4 -4,-279 218,-279 218,4 -4,4\"/>\n<!-- 140326658536800 -->\n<g id=\"node1\" class=\"node\">\n<title>140326658536800</title>\n<polygon fill=\"#caff70\" stroke=\"black\" points=\"139,-31 74,-31 74,0 139,0 139,-31\"/>\n<text text-anchor=\"middle\" x=\"106.5\" y=\"-7\" font-family=\"monospace\" font-size=\"10.00\"> (80, 1)</text>\n</g>\n<!-- 140326659754784 -->\n<g id=\"node2\" class=\"node\">\n<title>140326659754784</title>\n<polygon fill=\"lightgrey\" stroke=\"black\" points=\"151,-86 62,-86 62,-67 151,-67 151,-86\"/>\n<text text-anchor=\"middle\" x=\"106.5\" y=\"-74\" font-family=\"monospace\" font-size=\"10.00\">AddBackward0</text>\n</g>\n<!-- 140326659754784&#45;&gt;140326658536800 -->\n<g id=\"edge6\" class=\"edge\">\n<title>140326659754784&#45;&gt;140326658536800</title>\n<path fill=\"none\" stroke=\"black\" d=\"M106.5,-66.79C106.5,-60.07 106.5,-50.4 106.5,-41.34\"/>\n<polygon fill=\"black\" stroke=\"black\" points=\"110,-41.19 106.5,-31.19 103,-41.19 110,-41.19\"/>\n</g>\n<!-- 140326659758432 -->\n<g id=\"node3\" class=\"node\">\n<title>140326659758432</title>\n<polygon fill=\"lightgrey\" stroke=\"black\" points=\"101,-141 0,-141 0,-122 101,-122 101,-141\"/>\n<text text-anchor=\"middle\" x=\"50.5\" y=\"-129\" font-family=\"monospace\" font-size=\"10.00\">AccumulateGrad</text>\n</g>\n<!-- 140326659758432&#45;&gt;140326659754784 -->\n<g id=\"edge1\" class=\"edge\">\n<title>140326659758432&#45;&gt;140326659754784</title>\n<path fill=\"none\" stroke=\"black\" d=\"M59.5,-121.98C67.69,-114.23 80.01,-102.58 89.97,-93.14\"/>\n<polygon fill=\"black\" stroke=\"black\" points=\"92.48,-95.59 97.34,-86.17 87.67,-90.5 92.48,-95.59\"/>\n</g>\n<!-- 140326658537360 -->\n<g id=\"node4\" class=\"node\">\n<title>140326658537360</title>\n<polygon fill=\"lightblue\" stroke=\"black\" points=\"77.5,-208 23.5,-208 23.5,-177 77.5,-177 77.5,-208\"/>\n<text text-anchor=\"middle\" x=\"50.5\" y=\"-184\" font-family=\"monospace\" font-size=\"10.00\"> (1)</text>\n</g>\n<!-- 140326658537360&#45;&gt;140326659758432 -->\n<g id=\"edge2\" class=\"edge\">\n<title>140326658537360&#45;&gt;140326659758432</title>\n<path fill=\"none\" stroke=\"black\" d=\"M50.5,-176.92C50.5,-169.22 50.5,-159.69 50.5,-151.43\"/>\n<polygon fill=\"black\" stroke=\"black\" points=\"54,-151.25 50.5,-141.25 47,-151.25 54,-151.25\"/>\n</g>\n<!-- 140326659758624 -->\n<g id=\"node5\" class=\"node\">\n<title>140326659758624</title>\n<polygon fill=\"lightgrey\" stroke=\"black\" points=\"208,-141 119,-141 119,-122 208,-122 208,-141\"/>\n<text text-anchor=\"middle\" x=\"163.5\" y=\"-129\" font-family=\"monospace\" font-size=\"10.00\">MulBackward0</text>\n</g>\n<!-- 140326659758624&#45;&gt;140326659754784 -->\n<g id=\"edge3\" class=\"edge\">\n<title>140326659758624&#45;&gt;140326659754784</title>\n<path fill=\"none\" stroke=\"black\" d=\"M154.34,-121.98C146,-114.23 133.47,-102.58 123.32,-93.14\"/>\n<polygon fill=\"black\" stroke=\"black\" points=\"125.53,-90.42 115.82,-86.17 120.76,-95.54 125.53,-90.42\"/>\n</g>\n<!-- 140326659766784 -->\n<g id=\"node6\" class=\"node\">\n<title>140326659766784</title>\n<polygon fill=\"lightgrey\" stroke=\"black\" points=\"214,-202 113,-202 113,-183 214,-183 214,-202\"/>\n<text text-anchor=\"middle\" x=\"163.5\" y=\"-190\" font-family=\"monospace\" font-size=\"10.00\">AccumulateGrad</text>\n</g>\n<!-- 140326659766784&#45;&gt;140326659758624 -->\n<g id=\"edge4\" class=\"edge\">\n<title>140326659766784&#45;&gt;140326659758624</title>\n<path fill=\"none\" stroke=\"black\" d=\"M163.5,-182.79C163.5,-174.6 163.5,-162.06 163.5,-151.55\"/>\n<polygon fill=\"black\" stroke=\"black\" points=\"167,-151.24 163.5,-141.24 160,-151.24 167,-151.24\"/>\n</g>\n<!-- 140326658537520 -->\n<g id=\"node7\" class=\"node\">\n<title>140326658537520</title>\n<polygon fill=\"lightblue\" stroke=\"black\" points=\"190.5,-275 136.5,-275 136.5,-244 190.5,-244 190.5,-275\"/>\n<text text-anchor=\"middle\" x=\"163.5\" y=\"-251\" font-family=\"monospace\" font-size=\"10.00\"> (1)</text>\n</g>\n<!-- 140326658537520&#45;&gt;140326659766784 -->\n<g id=\"edge5\" class=\"edge\">\n<title>140326658537520&#45;&gt;140326659766784</title>\n<path fill=\"none\" stroke=\"black\" d=\"M163.5,-243.75C163.5,-234.39 163.5,-222.19 163.5,-212.16\"/>\n<polygon fill=\"black\" stroke=\"black\" points=\"167,-212.02 163.5,-202.02 160,-212.02 167,-212.02\"/>\n</g>\n</g>\n</svg>\n",
            "text/plain": [
              "<graphviz.graphs.Digraph at 0x7fa058b50e80>"
            ]
          },
          "metadata": {},
          "execution_count": 28
        }
      ]
    },
    {
      "cell_type": "code",
      "source": [
        "import torch.optim as optim\n",
        "import torch.nn as nn\n",
        "\n",
        "@timer\n",
        "def train_model_torch_optim(lr=0.1, epochs=1000):\n",
        "\n",
        "    # Initialize parameters\n",
        "    b = torch.randn(1, requires_grad=True, dtype=torch.float, device=device)\n",
        "    w = torch.randn(1, requires_grad=True, dtype=torch.float, device=device)\n",
        "    parameters = [b, w]\n",
        "\n",
        "    optimizer = optim.SGD(parameters, lr=lr)\n",
        "    mse_loss = nn.MSELoss()\n",
        "\n",
        "    for epoch in range(epochs):\n",
        "        # Loss computation\n",
        "        y_hat = b + w * x_train_tensor + w2 * (x_train_tensor ** 2)\n",
        "        loss = mse_loss(y_hat, y_train_tensor)\n",
        "\n",
        "        # Standard PyTorch code for training\n",
        "        loss.backward()\n",
        "        optimizer.step()\n",
        "        optimizer.zero_grad()\n",
        "\n",
        "    return b, w"
      ],
      "metadata": {
        "id": "74l-MEovBdD5"
      },
      "execution_count": null,
      "outputs": []
    },
    {
      "cell_type": "code",
      "source": [
        "b_hat, w_hat = train_model_torch_optim()\n",
        "print(\"b_estimate:{}, w_estimate: {}, w2_estimate: {}\".format(b_hat, w_hat))"
      ],
      "metadata": {
        "colab": {
          "base_uri": "https://localhost:8080/"
        },
        "id": "zAVGk-j0FBe5",
        "outputId": "e4288524-386b-4ea3-cb95-7afdbe3c497c"
      },
      "execution_count": null,
      "outputs": [
        {
          "output_type": "stream",
          "name": "stdout",
          "text": [
            "Execution time of train_model_torch_optim: 0.5560269355773926 seconds\n",
            "b_estimate:tensor([1.2288], requires_grad=True), w_estimate: tensor([0.6651], requires_grad=True), w2_estimate: tensor([1.2529], requires_grad=True)\n"
          ]
        }
      ]
    },
    {
      "cell_type": "code",
      "source": [],
      "metadata": {
        "id": "X2dA_8y3FDLf"
      },
      "execution_count": null,
      "outputs": []
    }
  ]
}