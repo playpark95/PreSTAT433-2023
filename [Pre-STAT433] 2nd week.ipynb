{
 "cells": [
  {
   "cell_type": "markdown",
   "metadata": {},
   "source": [
    "# **Lecture (Codes by prof.)**"
   ]
  },
  {
   "cell_type": "code",
   "execution_count": 1,
   "metadata": {},
   "outputs": [],
   "source": [
    "import numpy as np"
   ]
  },
  {
   "cell_type": "code",
   "execution_count": 2,
   "metadata": {},
   "outputs": [],
   "source": [
    "true_b = 1\n",
    "true_w = 2\n",
    "N = 100   #number of data"
   ]
  },
  {
   "cell_type": "code",
   "execution_count": 3,
   "metadata": {},
   "outputs": [],
   "source": [
    "np.random.seed(42)"
   ]
  },
  {
   "cell_type": "code",
   "execution_count": 4,
   "metadata": {},
   "outputs": [],
   "source": [
    "x = np.random.rand(N,1)\n",
    "epsilon = (0.1*np.random.randn(N,1))\n",
    "\n",
    "y= true_b + true_w*x + epsilon #data generation"
   ]
  },
  {
   "cell_type": "code",
   "execution_count": 5,
   "metadata": {},
   "outputs": [],
   "source": [
    "#Shuffles the indices\n",
    "\n",
    "idx = np.arange(N)\n",
    "split_index = int(N*0.8) #train-validationi split\n",
    "## 관행적으로 4:1 (즉 80% = 0.8) 로 train-valid set split하기 때문에, 똑같이 함 (like p-val = 0.05)"
   ]
  },
  {
   "cell_type": "code",
   "execution_count": 6,
   "metadata": {},
   "outputs": [],
   "source": [
    "train_idx = idx[:split_index]\n",
    "val_idx = idx[split_index:]  \n",
    "\n",
    "##개인 필기: validation set과 test set의 차이?\n",
    "###이는 단순히 명칭을 구분함으로써 오는 차이가 아니다.\n",
    "###test set은 training set과 완전히 구분되어있어야 하는 반면, valid set은 그렇지 않다.\n",
    "###예로, 특정 dataset을 4:1로 나눈다음 4짜리 training part를 한 바퀴만 학습시켰으면 그 1은 test set으로 간주할 수 있으나,\n",
    "####epoch 값이나 learning rate를 여러번 바꿔가면서 돌렸다면 그 순간 그 1은 test가 아닌 valid set이 된다."
   ]
  },
  {
   "cell_type": "code",
   "execution_count": 7,
   "metadata": {},
   "outputs": [],
   "source": [
    "#Generates train and validation sets\n",
    "\n",
    "x_train, y_train = x[train_idx], y[train_idx]\n",
    "x_val, y_val =- x[val_idx], y[val_idx]"
   ]
  },
  {
   "cell_type": "code",
   "execution_count": 8,
   "metadata": {},
   "outputs": [],
   "source": [
    "## Model Settings\n",
    "\n",
    "def train_model_numpy(lr=0.1, epochs =1000):\n",
    "    #Initialize parameters (초기 설정이 엄청 중요)\n",
    "    b = np.random.randn(1)\n",
    "    w = np.random.randn(1)\n",
    "    \n",
    "    for epoch in range(epochs):\n",
    "        #Loss computation\n",
    "        y_hat = b + w*x_train\n",
    "        error = (y_hat - y_train)\n",
    "        mse_loss = np.mean(error**2)\n",
    "        #학습 중인 parameter를 기반으로 loss를 계산합니다.\n",
    "        #다만 이 코드에서는 mse_loss는 사용하지 않습니다.\n",
    "        \n",
    "        #Graident computation\n",
    "        b_grad = 2 * np.mean(error)\n",
    "        w_grad = 2 * np.mean(x_train*error)\n",
    "        b = b - lr*b_grad\n",
    "        w = w - lr*w_grad\n",
    "    \n",
    "    return b, w"
   ]
  },
  {
   "cell_type": "code",
   "execution_count": 9,
   "metadata": {},
   "outputs": [
    {
     "name": "stderr",
     "output_type": "stream",
     "text": [
      "C:\\ProgramData\\Anaconda3\\lib\\site-packages\\numpy\\core\\_methods.py:160: RuntimeWarning: overflow encountered in reduce\n",
      "  ret = umr_sum(arr, axis, dtype, out, keepdims)\n",
      "<ipython-input-8-78cc03ba6c79>:12: RuntimeWarning: overflow encountered in square\n",
      "  mse_loss = np.mean(error**2)\n"
     ]
    },
    {
     "data": {
      "text/plain": [
       "(array([-1.18566342e+167]), array([-5.97013142e+166]))"
      ]
     },
     "execution_count": 9,
     "metadata": {},
     "output_type": "execute_result"
    }
   ],
   "source": [
    "train_model_numpy(1)"
   ]
  },
  {
   "cell_type": "code",
   "execution_count": null,
   "metadata": {},
   "outputs": [],
   "source": []
  },
  {
   "cell_type": "code",
   "execution_count": 10,
   "metadata": {},
   "outputs": [],
   "source": [
    "import time\n",
    "def timer(func):\n",
    "    def wrapper(*args, **kwargs):\n",
    "        start_time = time.time()\n",
    "        result = func(*args, **kwargs)\n",
    "        end_time = time.time()\n",
    "        computation_time = end_time - start_time\n",
    "        print(\"Execution time of {}: {} seconds\".format(func.__name__,computation_time)) \n",
    "        #괄호 안에 순서대로 format의 값들을 집어넣는 방식\n",
    "        return result\n",
    "    return wrapper"
   ]
  },
  {
   "cell_type": "code",
   "execution_count": 11,
   "metadata": {},
   "outputs": [],
   "source": [
    "#Model with timer\n",
    "\n",
    "@timer\n",
    "def train_model_numpy(lr=0.1, epochs =1000):\n",
    "    #Initialize parameters (초기 설정이 엄청 중요)\n",
    "    b = np.random.randn(1)\n",
    "    w = np.random.randn(1)\n",
    "    \n",
    "    for epoch in range(epochs):\n",
    "        #Loss computation\n",
    "        y_hat = b + w*x_train\n",
    "        error = (y_hat - y_train)\n",
    "        mse_loss = np.mean(error**2)\n",
    "        #학습 중인 parameter를 기반으로 loss를 계산합니다.\n",
    "        #다만 이 코드에서는 mse_loss는 사용하지 않습니다.\n",
    "        \n",
    "        #Graident computation\n",
    "        b_grad = 2 * np.mean(error)\n",
    "        w_grad = 2 * np.mean(x_train*error)\n",
    "        b = b - lr*b_grad\n",
    "        w = w - lr*w_grad\n",
    "    \n",
    "    return b, w"
   ]
  },
  {
   "cell_type": "code",
   "execution_count": 12,
   "metadata": {},
   "outputs": [
    {
     "name": "stdout",
     "output_type": "stream",
     "text": [
      "Execution time of train_model_numpy: 0.026939868927001953 seconds\n",
      "b_estimate: [1.0234136]. w_estimate: [1.93680757]\n"
     ]
    }
   ],
   "source": [
    "b_hat, w_hat = train_model_numpy()\n",
    "print(\"b_estimate: {}. w_estimate: {}\".format(b_hat, w_hat))"
   ]
  },
  {
   "cell_type": "code",
   "execution_count": null,
   "metadata": {},
   "outputs": [],
   "source": []
  },
  {
   "cell_type": "markdown",
   "metadata": {},
   "source": [
    "**Now Pytorch**"
   ]
  },
  {
   "cell_type": "code",
   "execution_count": 13,
   "metadata": {},
   "outputs": [],
   "source": [
    "import torch\n",
    "\n",
    "#create tensor @CPU\n",
    "x_train_tensor = torch.as_tensor(x_train)\n",
    "y_train_tensor = torch.as_tensor(y_train)\n",
    "\n",
    "#create tensor @GPU\n",
    "device = 'cuda' if torch.cuda.is_available() else 'cpu'  ##GPU 위로 올리려는 일임 (하드웨어 이슈)\n",
    "x_train_tensor = torch.as_tensor(x_train).to(device)  #to(device) 설정을 해줘야지만 GPU로 확실하게 올라감\n",
    "y_train_tensor = torch.as_tensor(y_train).to(device)  #그리고 CPU에 올라간 데이터와 GPU에 올라간 데이터 간 에는 소통(=연산)이 안된다.\n",
    "\n",
    "\n",
    "##개인 질문: Jupyter(Local)에서 GPU 위로 잘 올라가는지 확인을 하는 방법이 있는지?"
   ]
  },
  {
   "cell_type": "code",
   "execution_count": 14,
   "metadata": {
    "scrolled": true
   },
   "outputs": [
    {
     "data": {
      "text/plain": [
       "tensor([[0.3745],\n",
       "        [0.9507],\n",
       "        [0.7320],\n",
       "        [0.5987],\n",
       "        [0.1560],\n",
       "        [0.1560],\n",
       "        [0.0581],\n",
       "        [0.8662],\n",
       "        [0.6011],\n",
       "        [0.7081],\n",
       "        [0.0206],\n",
       "        [0.9699],\n",
       "        [0.8324],\n",
       "        [0.2123],\n",
       "        [0.1818],\n",
       "        [0.1834],\n",
       "        [0.3042],\n",
       "        [0.5248],\n",
       "        [0.4319],\n",
       "        [0.2912],\n",
       "        [0.6119],\n",
       "        [0.1395],\n",
       "        [0.2921],\n",
       "        [0.3664],\n",
       "        [0.4561],\n",
       "        [0.7852],\n",
       "        [0.1997],\n",
       "        [0.5142],\n",
       "        [0.5924],\n",
       "        [0.0465],\n",
       "        [0.6075],\n",
       "        [0.1705],\n",
       "        [0.0651],\n",
       "        [0.9489],\n",
       "        [0.9656],\n",
       "        [0.8084],\n",
       "        [0.3046],\n",
       "        [0.0977],\n",
       "        [0.6842],\n",
       "        [0.4402],\n",
       "        [0.1220],\n",
       "        [0.4952],\n",
       "        [0.0344],\n",
       "        [0.9093],\n",
       "        [0.2588],\n",
       "        [0.6625],\n",
       "        [0.3117],\n",
       "        [0.5201],\n",
       "        [0.5467],\n",
       "        [0.1849],\n",
       "        [0.9696],\n",
       "        [0.7751],\n",
       "        [0.9395],\n",
       "        [0.8948],\n",
       "        [0.5979],\n",
       "        [0.9219],\n",
       "        [0.0885],\n",
       "        [0.1960],\n",
       "        [0.0452],\n",
       "        [0.3253],\n",
       "        [0.3887],\n",
       "        [0.2713],\n",
       "        [0.8287],\n",
       "        [0.3568],\n",
       "        [0.2809],\n",
       "        [0.5427],\n",
       "        [0.1409],\n",
       "        [0.8022],\n",
       "        [0.0746],\n",
       "        [0.9869],\n",
       "        [0.7722],\n",
       "        [0.1987],\n",
       "        [0.0055],\n",
       "        [0.8155],\n",
       "        [0.7069],\n",
       "        [0.7290],\n",
       "        [0.7713],\n",
       "        [0.0740],\n",
       "        [0.3585],\n",
       "        [0.1159]], dtype=torch.float64)"
      ]
     },
     "execution_count": 14,
     "metadata": {},
     "output_type": "execute_result"
    }
   ],
   "source": [
    "x_train_tensor"
   ]
  },
  {
   "cell_type": "code",
   "execution_count": 15,
   "metadata": {},
   "outputs": [],
   "source": [
    "## Model Settings_2\n",
    "\n",
    "@timer\n",
    "def train_model_torch(lr=0.1, epochs =1000):\n",
    "    #Initialize parameters (초기 설정이 엄청 중요)\n",
    "    b = torch.randn(1, requires_grad = True, dtype = torch.float, device = device)\n",
    "    w = torch.randn(1, requires_grad = True, dtype = torch.float, device = device)\n",
    "    #일단 1로 initialize하는건 똑같은데, 뒤의 param? 이 더 붙음\n",
    "    ##requires_grad: autograd 기능 커는 것(즉 수동으로 미분 계산할 필요 없음)\n",
    "    ###또한 이것이 학습대상임을 지시해주는 기능도 함 (b가 바로 학습대상이에요~!)\n",
    "    ##dtype: 데이터의 타입을 정함(numeric을 정수로 읽어낼지, float로 읽어낼지 등)\n",
    "    ###default 값은 float32 (현재 코드는 float64로 설정하는 것)\n",
    "    ##device: CPU or GPU 선택\n",
    "    \n",
    "    for epoch in range(epochs):\n",
    "        #Loss computation\n",
    "        y_hat = b + w*x_train_tensor\n",
    "        error = (y_hat - y_train_tensor)\n",
    "        mse_loss = torch.mean(error**2)\n",
    "        #학습 중인 parameter를 기반으로 loss를 계산합니다.\n",
    "        #다만 이 코드에서는 mse_loss는 사용하지 않습니다.\n",
    "        \n",
    "        #Graident computation and descent\n",
    "        mse_loss.backward()\n",
    "        ##mse loss 값을 수동으로 계산하지 않고 자동으로 계산함\n",
    "        with torch.no_grad():  #Autograd 기능을 잠깐 멈춤; 왜? RAM 과부하 때문에 (알고리즘 상 안끄면 과부하 걸림)\n",
    "            b -= lr*b.grad ###자동으로 미분값을 빼주는 기호: '-='\n",
    "            w -= lr*w.grad ###in-plae operation: 데이터의 사본을 만들지 않고 원본을 덮어씌우는 기능 \n",
    "        b.grad.zero_()\n",
    "        w.grad.zero_()\n",
    "    \n",
    "    return b, w"
   ]
  },
  {
   "cell_type": "code",
   "execution_count": 16,
   "metadata": {},
   "outputs": [
    {
     "name": "stdout",
     "output_type": "stream",
     "text": [
      "Execution time of train_model_torch: 0.1834094524383545 seconds\n",
      "b_estimate: tensor([1.0234], requires_grad=True). w_estimate: tensor([1.9368], requires_grad=True)\n"
     ]
    }
   ],
   "source": [
    "b_hat, w_hat = train_model_torch()\n",
    "print(\"b_estimate: {}. w_estimate: {}\".format(b_hat, w_hat))"
   ]
  },
  {
   "cell_type": "code",
   "execution_count": 17,
   "metadata": {},
   "outputs": [],
   "source": [
    "import torch.optim as optim #optimizer\n",
    "import torch.nn as nn"
   ]
  },
  {
   "cell_type": "code",
   "execution_count": 291,
   "metadata": {},
   "outputs": [],
   "source": [
    "## Model Settings_3\n",
    "###Model_2 에 비해서 어느 부분이 축소(자동화) 되었는지 리뷰해볼 것!\n",
    "\n",
    "@timer\n",
    "def train_model_torch_2(lr=0.1, epochs =1000):\n",
    "    #Initialize parameters (초기 설정이 엄청 중요)\n",
    "    b = torch.randn(1, requires_grad = True, dtype = torch.float, device = device)\n",
    "    w = torch.randn(1, requires_grad = True, dtype = torch.float, device = device)\n",
    "    \n",
    "    parameters = [b, w]\n",
    "    optimizer = optim.SGD(parameters, lr=lr)\n",
    "    mse_loss = nn.MSELoss()\n",
    "    \n",
    "    for epoch in range(epochs):\n",
    "        #Loss computation\n",
    "        y_hat = b + w*x_train_tensor\n",
    "        loss = mse_loss(y_hat, y_train_tensor)\n",
    "        #Graident computation and descent\n",
    "        loss.backward()\n",
    "        optimizer.step()\n",
    "        optimizer.zero_grad()\n",
    "    \n",
    "    return b, w"
   ]
  },
  {
   "cell_type": "code",
   "execution_count": 292,
   "metadata": {},
   "outputs": [
    {
     "name": "stdout",
     "output_type": "stream",
     "text": [
      "Execution time of train_model_torch_2: 0.15007996559143066 seconds\n",
      "b_estimate: tensor([1.0234], requires_grad=True). w_estimate: tensor([1.9368], requires_grad=True)\n"
     ]
    }
   ],
   "source": [
    "b_hat, w_hat = train_model_torch_2()\n",
    "print(\"b_estimate: {}. w_estimate: {}\".format(b_hat, w_hat))"
   ]
  },
  {
   "cell_type": "code",
   "execution_count": null,
   "metadata": {},
   "outputs": [],
   "source": []
  },
  {
   "cell_type": "markdown",
   "metadata": {},
   "source": [
    "# **Group Quiz**"
   ]
  },
  {
   "cell_type": "markdown",
   "metadata": {},
   "source": [
    "### Q1\n",
    "\n",
    "### Pytorch로 추정한 parameter를 이용해서 test(=valid) 데이터에서 MSE error를 계산하는 코드를 구현하시오.\n",
    "\n",
    "#### - NumPy 코드 사용 금지\n",
    "#### - GPU device 사용하기"
   ]
  },
  {
   "cell_type": "code",
   "execution_count": 293,
   "metadata": {},
   "outputs": [],
   "source": [
    "device = 'cuda' if torch.cuda.is_available() else 'cpu'  ##GPU 위로 올리려는 일임 (하드웨어 이슈)\n",
    "x_val_tensor = torch.as_tensor(x_val).to(device)  #to(device) 설정을 해줘야지만 GPU로 확실하게 올라감\n",
    "y_val_tensor = torch.as_tensor(y_val).to(device)  #그리고 CPU에 올라간 데이터와 GPU에 올라간 데이터 간 에는 소통(=연산)이 안된다.\n",
    "\n",
    "\n",
    "##개인 질문: Jupyter(Local)에서 GPU 위로 잘 올라가는지 확인을 하는 방법이 있는지?"
   ]
  },
  {
   "cell_type": "code",
   "execution_count": 294,
   "metadata": {},
   "outputs": [],
   "source": [
    "@timer\n",
    "def test_model_torch(lr=0.1, epochs =1000):\n",
    "    #Initialize parameters (초기 설정이 엄청 중요)\n",
    "    b = torch.randn(1, requires_grad = True, dtype = torch.float, device = device)\n",
    "    w = torch.randn(1, requires_grad = True, dtype = torch.float, device = device)\n",
    "    \n",
    "    parameters = [b, w]\n",
    "    optimizer = optim.SGD(parameters, lr=lr)\n",
    "    mse_loss = nn.MSELoss()\n",
    "    \n",
    "    for epoch in range(epochs):\n",
    "        #Loss computation\n",
    "        y_hat = b + w*x_val_tensor\n",
    "        loss = mse_loss(y_hat, y_val_tensor)\n",
    "        #Graident computation and descent\n",
    "        loss.backward()\n",
    "        optimizer.step()\n",
    "        optimizer.zero_grad()\n",
    "    \n",
    "    return b, w, loss"
   ]
  },
  {
   "cell_type": "code",
   "execution_count": 295,
   "metadata": {
    "scrolled": true
   },
   "outputs": [
    {
     "name": "stdout",
     "output_type": "stream",
     "text": [
      "Execution time of test_model_torch: 0.15624594688415527 seconds\n",
      "b_estimate: tensor([1.0046], requires_grad=True). w_estimate: tensor([-2.0390], requires_grad=True), mse_loss: 0.008080893569141337\n",
      "answer = 0.008080893569141337\n"
     ]
    }
   ],
   "source": [
    "b_hat, w_hat, loss = test_model_torch()\n",
    "print(\"b_estimate: {}. w_estimate: {}, mse_loss: {}\".format(b_hat, w_hat, loss))\n",
    "\n",
    "print(\"answer = {}\".format(loss))"
   ]
  },
  {
   "cell_type": "markdown",
   "metadata": {},
   "source": [
    "##### 개인 질문:  그런데 validation set의 MSE를 구하라는 것이라면 혹시 train 단계에서 얻어진 parameter들을 활용하라는 의미일까요?"
   ]
  },
  {
   "cell_type": "markdown",
   "metadata": {},
   "source": [
    "### Q2\n",
    "\n",
    "### Slack에 올라온 데이터셋을 fitting 하는 함수의 parameter 추정\n",
    "#### (오늘 수업 외) 추가 라이브러리 사용 금지\n",
    "#### 10회 반복 측정한 평균 test MSE error 값 0.05 미만\n",
    "#### (도전) 학습시간 500ms (=0.5초) 미만"
   ]
  },
  {
   "cell_type": "code",
   "execution_count": 23,
   "metadata": {},
   "outputs": [],
   "source": [
    "dir = \"C:/Users/playp/Desktop/현재 작업 중인 폴더/2023(휴학 및 재정비)/여름방학\\[Pre-STAT433] 딥러닝 프로그래밍 스터디\""
   ]
  },
  {
   "cell_type": "code",
   "execution_count": 24,
   "metadata": {},
   "outputs": [],
   "source": [
    "import numpy as np\n",
    "import time\n",
    "import torch\n",
    "import torch.optim as optim #optimizer\n",
    "import torch.nn as nn"
   ]
  },
  {
   "cell_type": "code",
   "execution_count": 25,
   "metadata": {},
   "outputs": [],
   "source": [
    "import os  #os는 봐주세요 교수님...ㅠㅠ\n",
    "\n",
    "os.chdir(dir)"
   ]
  },
  {
   "cell_type": "code",
   "execution_count": 26,
   "metadata": {},
   "outputs": [],
   "source": [
    "import pickle\n",
    "\n",
    "with open('quiz_data.pkl', 'rb') as f:\n",
    "    data = pickle.load(f)"
   ]
  },
  {
   "cell_type": "code",
   "execution_count": 27,
   "metadata": {
    "scrolled": true
   },
   "outputs": [
    {
     "data": {
      "text/plain": [
       "\"{'x': array([[0.37454012],\\n       [0.95071431],\\n       [0.73199394],\\n       [0.59865848],\\n       [0.15601864],\\n       [0.15599452],\\n       [0.05808361],\\n       [0.86617615],\\n       [0.60111501],\\n       [0.70807258],\\n       [0.02058449],\\n       [0.96990985],\\n       [0.83244264],\\n       [0.21233911],\\n       [0.18182497],\\n       [0.18340451],\\n       [0.30424224],\\n       [0.52475643],\\n       [0.43194502],\\n       [0.29122914],\\n       [0.61185289],\\n       [0.13949386],\\n       [0.29214465],\\n       [0.36636184],\\n       [0.45606998],\\n       [0.78517596],\\n       [0.19967378],\\n       [0.51423444],\\n       [0.59241457],\\n       [0.04645041],\\n       [0.60754485],\\n       [0.17052412],\\n       [0.06505159],\\n       [0.94888554],\\n       [0.96563203],\\n       [0.80839735],\\n       [0.30461377],\\n       [0.09767211],\\n       [0.68423303],\\n       [0.44015249],\\n       [0.12203823],\\n       [0.49517691],\\n       [0.03438852],\\n       [0.9093204 ],\\n       [0.25877998],\\n       [0.66252228],\\n       [0.31171108],\\n       [0.52006802],\\n       [0.54671028],\\n       [0.18485446],\\n       [0.96958463],\\n       [0.77513282],\\n       [0.93949894],\\n       [0.89482735],\\n       [0.59789998],\\n       [0.92187424],\\n       [0.0884925 ],\\n       [0.19598286],\\n       [0.04522729],\\n       [0.32533033],\\n       [0.38867729],\\n       [0.27134903],\\n       [0.82873751],\\n       [0.35675333],\\n       [0.28093451],\\n       [0.54269608],\\n       [0.14092422],\\n       [0.80219698],\\n       [0.07455064],\\n       [0.98688694],\\n       [0.77224477],\\n       [0.19871568],\\n       [0.00552212],\\n       [0.81546143],\\n       [0.70685734],\\n       [0.72900717],\\n       [0.77127035],\\n       [0.07404465],\\n       [0.35846573],\\n       [0.11586906],\\n       [0.86310343],\\n       [0.62329813],\\n       [0.33089802],\\n       [0.06355835],\\n       [0.31098232],\\n       [0.32518332],\\n       [0.72960618],\\n       [0.63755747],\\n       [0.88721274],\\n       [0.47221493],\\n       [0.11959425],\\n       [0.71324479],\\n       [0.76078505],\\n       [0.5612772 ],\\n       [0.77096718],\\n       [0.4937956 ],\\n       [0.52273283],\\n       [0.42754102],\\n       [0.02541913],\\n       [0.10789143]]), 'y': array([[ 0.39740272],\\n       [-0.80659469],\\n       [-0.57963137],\\n       [-0.32014731],\\n       [-0.30604728],\\n       [-0.24852583],\\n       [-1.01513649],\\n       [-0.88464384],\\n       [-0.21122138],\\n       [-0.56400827],\\n       [-1.7572808 ],\\n       [-0.70538406],\\n       [-0.85895685],\\n       [ 0.07962529],\\n       [-0.11814555],\\n       [-0.02216425],\\n       [ 0.25552963],\\n       [ 0.09771934],\\n       [ 0.30588558],\\n       [ 0.15249783],\\n       [-0.14021974],\\n       [-0.37066187],\\n       [ 0.30141278],\\n       [ 0.36479936],\\n       [ 0.16292608],\\n       [-0.76869594],\\n       [-0.06715923],\\n       [ 0.08165268],\\n       [-0.11478902],\\n       [-1.28560927],\\n       [ 0.03465185],\\n       [-0.17597336],\\n       [-1.05011945],\\n       [-0.78730071],\\n       [-0.93952918],\\n       [-0.77396765],\\n       [ 0.33245372],\\n       [-0.48877083],\\n       [-0.45248586],\\n       [ 0.3627963 ],\\n       [-0.53126193],\\n       [ 0.09789998],\\n       [-1.41588552],\\n       [-0.7517937 ],\\n       [ 0.28930683],\\n       [-0.44708815],\\n       [ 0.47924073],\\n       [ 0.00446956],\\n       [ 0.1193383 ],\\n       [ 0.10804461],\\n       [-0.83804352],\\n       [-0.76078996],\\n       [-0.7847511 ],\\n       [-0.88450263],\\n       [-0.27368766],\\n       [-0.80957073],\\n       [-0.92846448],\\n       [-0.00431916],\\n       [-1.43673296],\\n       [ 0.51398353],\\n       [ 0.30707671],\\n       [ 0.21602728],\\n       [-0.72009926],\\n       [ 0.26240732],\\n       [ 0.2968344 ],\\n       [ 0.20453271],\\n       [-0.54734397],\\n       [-0.74195656],\\n       [-0.94079815],\\n       [-0.61815339],\\n       [-0.82106208],\\n       [-0.16976921],\\n       [-2.52243241],\\n       [-0.7530741 ],\\n       [-0.48480355],\\n       [-0.54517783],\\n       [-0.76304493],\\n       [-0.94913078],\\n       [ 0.41547332],\\n       [-0.64880024],\\n       [-0.64490126],\\n       [-0.16473111],\\n       [ 0.24654264],\\n       [-1.02832088],\\n       [ 0.24027291],\\n       [ 0.43751032],\\n       [-0.46577423],\\n       [-0.34689705],\\n       [-0.73945132],\\n       [ 0.31204725],\\n       [-0.46500726],\\n       [-0.34091873],\\n       [-0.69355634],\\n       [-0.06379239],\\n       [-0.78326735],\\n       [ 0.13680493],\\n       [ 0.12892567],\\n       [ 0.3852903 ],\\n       [-1.69389652],\\n       [-0.56155958]])}\""
      ]
     },
     "execution_count": 27,
     "metadata": {},
     "output_type": "execute_result"
    }
   ],
   "source": [
    "str(data)"
   ]
  },
  {
   "cell_type": "code",
   "execution_count": 28,
   "metadata": {},
   "outputs": [],
   "source": [
    "x_data = data['x']\n",
    "y_data = data['y']"
   ]
  },
  {
   "cell_type": "code",
   "execution_count": 29,
   "metadata": {},
   "outputs": [],
   "source": [
    "#Shuffles the indices\n",
    "idx = np.arange(N)\n",
    "split_index = int(N*0.8) #train-validationi split\n",
    "## 관행적으로 4:1 (즉 80% = 0.8) 로 train-valid set split하기 때문에, 똑같이 함 (like p-val = 0.05)\n",
    "\n",
    "train_idx = idx[:split_index]\n",
    "val_idx = idx[split_index:]"
   ]
  },
  {
   "cell_type": "code",
   "execution_count": 30,
   "metadata": {},
   "outputs": [],
   "source": [
    "x_data_train, y_data_train = x_data[train_idx], y_data[train_idx]\n",
    "x_data_val, y_data_val = x_data[val_idx], y_data[val_idx]"
   ]
  },
  {
   "cell_type": "code",
   "execution_count": 31,
   "metadata": {},
   "outputs": [],
   "source": [
    "device = 'cuda' if torch.cuda.is_available() else 'cpu'  ##GPU 위로 올리려는 일임 (하드웨어 이슈)\n",
    "\n",
    "x_data_train_tensor = torch.as_tensor(x_data_train).to(device)\n",
    "y_data_train_tensor = torch.as_tensor(y_data_train).to(device)\n",
    "\n",
    "x_data_val_tensor = torch.as_tensor(x_data_val).to(device)\n",
    "y_data_val_tensor = torch.as_tensor(y_data_val).to(device)"
   ]
  },
  {
   "cell_type": "code",
   "execution_count": 284,
   "metadata": {},
   "outputs": [],
   "source": [
    "@timer\n",
    "def train_model_quiz(lr=0.1, epochs=1000):\n",
    "    #Initialize parameters (초기 설정이 엄청 중요)\n",
    "    b = torch.randn(1, requires_grad = True, dtype = torch.float, device = device)\n",
    "    w = torch.randn(1, requires_grad = True, dtype = torch.float, device = device)\n",
    "    \n",
    "    parameters = [b, w]\n",
    "    optimizer = optim.SGD(parameters, lr=lr)\n",
    "    mse_loss = nn.MSELoss()\n",
    "    \n",
    "    np.random.seed(42)\n",
    "    \n",
    "    for epoch in range(epochs):\n",
    "        #Loss computation\n",
    "        y_hat = b + w*x_val_tensor\n",
    "        loss = mse_loss(y_hat, y_val_tensor)\n",
    "        #Graident computation and descent\n",
    "        loss.backward()\n",
    "        optimizer.step()\n",
    "        optimizer.zero_grad()\n",
    "    \n",
    "    return b, w, loss"
   ]
  },
  {
   "cell_type": "code",
   "execution_count": 289,
   "metadata": {},
   "outputs": [
    {
     "name": "stdout",
     "output_type": "stream",
     "text": [
      "Execution time of train_model_quiz: 0.15655946731567383 seconds\n",
      "b_estimate: tensor([1.0046], requires_grad=True). w_estimate: tensor([-2.0390], requires_grad=True), mse_loss: 0.008080893590405485\n",
      "answer = 0.008080893590405485\n"
     ]
    }
   ],
   "source": [
    "b_hat, w_hat, loss = train_model_quiz()\n",
    "print(\"b_estimate: {}. w_estimate: {}, mse_loss: {}\".format(b_hat, w_hat, loss))\n",
    "\n",
    "print(\"answer = {}\".format(loss))\n",
    "#수업 그대로 선형회귀 적용 시 loss값이 개판인 것을 확인할 수 있다. EDA부터 다시 시작."
   ]
  },
  {
   "cell_type": "markdown",
   "metadata": {},
   "source": [
    "##### 개인 질문: 왜 Seed값을 고정했음에도 불구하고 mse loss 값이 계속 바뀌는지요?"
   ]
  },
  {
   "cell_type": "markdown",
   "metadata": {},
   "source": [
    "### EDA"
   ]
  },
  {
   "cell_type": "code",
   "execution_count": 34,
   "metadata": {},
   "outputs": [
    {
     "data": {
      "text/plain": [
       "(100, 100)"
      ]
     },
     "execution_count": 34,
     "metadata": {},
     "output_type": "execute_result"
    }
   ],
   "source": [
    "len(x_data), len(y_data)"
   ]
  },
  {
   "cell_type": "code",
   "execution_count": 48,
   "metadata": {},
   "outputs": [],
   "source": [
    "#Pytorch로는 어떻게 시각화해야하는지 잘 모르겠습니다.\n",
    "\n",
    "from matplotlib import pyplot as plt\n",
    "import pandas as pd\n",
    "\n",
    "os.environ['KMP_DUPLICATE_LIB_OK'] = 'True'"
   ]
  },
  {
   "cell_type": "code",
   "execution_count": 203,
   "metadata": {},
   "outputs": [
    {
     "data": {
      "text/plain": [
       "<matplotlib.collections.PathCollection at 0x2106beb0400>"
      ]
     },
     "execution_count": 203,
     "metadata": {},
     "output_type": "execute_result"
    },
    {
     "data": {
      "image/png": "[encoded data removed]",
      "text/plain": [
       "<Figure size 432x288 with 1 Axes>"
      ]
     },
     "metadata": {
      "needs_background": "light"
     },
     "output_type": "display_data"
    }
   ],
   "source": [
    "plt.scatter(x_data, y_data)\n",
    "\n",
    "#그래프가 단조함수가 아님을 알 수 있다.\n",
    "#과적합을 각오하고서라도 구간별로 회귀적합을 다르게 하는 방식을 고려해본다."
   ]
  },
  {
   "cell_type": "code",
   "execution_count": 159,
   "metadata": {},
   "outputs": [
    {
     "data": {
      "text/plain": [
       "(array([59], dtype=int64),)"
      ]
     },
     "execution_count": 159,
     "metadata": {},
     "output_type": "execute_result"
    }
   ],
   "source": [
    "x_data[np.argmax(y_data)]\n",
    "np.where(x_temp==x_data[np.argmax(y_data)])"
   ]
  },
  {
   "cell_type": "code",
   "execution_count": 92,
   "metadata": {},
   "outputs": [
    {
     "data": {
      "text/plain": [
       "<matplotlib.collections.LineCollection at 0x2106aa5e5b0>"
      ]
     },
     "execution_count": 92,
     "metadata": {},
     "output_type": "execute_result"
    },
    {
     "data": {
      "image/png": "[encoded data removed]",
      "text/plain": [
       "<Figure size 432x288 with 1 Axes>"
      ]
     },
     "metadata": {
      "needs_background": "light"
     },
     "output_type": "display_data"
    }
   ],
   "source": [
    "plt.scatter(x_data, y_data)\n",
    "plt.vlines(x=0.32533033, ymin=min(y_data)-0.5, ymax=max(y_data)+0.5, linewidth=3)"
   ]
  },
  {
   "cell_type": "markdown",
   "metadata": {},
   "source": [
    "### Pre-Processing (Spliting)"
   ]
  },
  {
   "cell_type": "code",
   "execution_count": 110,
   "metadata": {},
   "outputs": [],
   "source": [
    "?np.concatenate"
   ]
  },
  {
   "cell_type": "code",
   "execution_count": 125,
   "metadata": {},
   "outputs": [],
   "source": [
    "x_temp=sum(x_data.tolist(),[])"
   ]
  },
  {
   "cell_type": "code",
   "execution_count": 126,
   "metadata": {},
   "outputs": [],
   "source": [
    "y_temp=sum(y_data.tolist(),[])"
   ]
  },
  {
   "cell_type": "code",
   "execution_count": 168,
   "metadata": {},
   "outputs": [],
   "source": [
    "data_temp=list(zip(x_temp,y_temp))\n",
    "data_temp_sorted=sorted(data_temp)"
   ]
  },
  {
   "cell_type": "code",
   "execution_count": 170,
   "metadata": {},
   "outputs": [
    {
     "data": {
      "text/plain": [
       "(array([39], dtype=int64), array([0], dtype=int64))"
      ]
     },
     "execution_count": 170,
     "metadata": {},
     "output_type": "execute_result"
    }
   ],
   "source": [
    "np.where(data_temp_sorted==x_data[np.argmax(y_data)])"
   ]
  },
  {
   "cell_type": "code",
   "execution_count": 220,
   "metadata": {},
   "outputs": [],
   "source": [
    "data_temp_front = data_temp_sorted[0:40] \n",
    "data_temp_end = data_temp_sorted[40:len(data_temp_sorted)]"
   ]
  },
  {
   "cell_type": "code",
   "execution_count": 221,
   "metadata": {},
   "outputs": [
    {
     "data": {
      "text/plain": [
       "(0    0.005522\n",
       " 1    0.020584\n",
       " 2    0.025419\n",
       " 3    0.034389\n",
       " 4    0.045227\n",
       " Name: 0, dtype: float64,\n",
       " [(0.005522117123602399, -2.5224324070258124),\n",
       "  (0.020584494295802447, -1.757280796130487),\n",
       "  (0.02541912674409519, -1.6938965203065597),\n",
       "  (0.034388521115218396, -1.4158855210949448)])"
      ]
     },
     "execution_count": 221,
     "metadata": {},
     "output_type": "execute_result"
    }
   ],
   "source": [
    "pd.DataFrame(data_temp_front)[0].head(), data_temp_front[0:4]"
   ]
  },
  {
   "cell_type": "code",
   "execution_count": 222,
   "metadata": {},
   "outputs": [],
   "source": [
    "x_temp_front = pd.DataFrame(data_temp_front)[0].tolist()\n",
    "y_temp_front = pd.DataFrame(data_temp_front)[1].tolist()\n",
    "\n",
    "x_temp_end = pd.DataFrame(data_temp_end)[0].tolist()\n",
    "y_temp_end = pd.DataFrame(data_temp_end)[1].tolist()"
   ]
  },
  {
   "cell_type": "code",
   "execution_count": 223,
   "metadata": {
    "scrolled": false
   },
   "outputs": [
    {
     "data": {
      "text/plain": [
       "(<matplotlib.collections.PathCollection at 0x2106c0c1b20>,\n",
       " <matplotlib.collections.PathCollection at 0x2106c0c1f40>)"
      ]
     },
     "execution_count": 223,
     "metadata": {},
     "output_type": "execute_result"
    },
    {
     "data": {
      "image/png": "[encoded data removed]",
      "text/plain": [
       "<Figure size 432x288 with 1 Axes>"
      ]
     },
     "metadata": {
      "needs_background": "light"
     },
     "output_type": "display_data"
    }
   ],
   "source": [
    "plt.scatter(x_temp_front, y_temp_front), plt.scatter(x_temp_end, y_temp_end)"
   ]
  },
  {
   "cell_type": "markdown",
   "metadata": {},
   "source": [
    "### Pre-Processing (preparing for model fitting)"
   ]
  },
  {
   "cell_type": "code",
   "execution_count": 232,
   "metadata": {},
   "outputs": [
    {
     "data": {
      "text/plain": [
       "32"
      ]
     },
     "execution_count": 232,
     "metadata": {},
     "output_type": "execute_result"
    }
   ],
   "source": [
    "int(len(x_temp_front)*0.8)"
   ]
  },
  {
   "cell_type": "code",
   "execution_count": 247,
   "metadata": {},
   "outputs": [],
   "source": [
    "def slicer(x):\n",
    "    \n",
    "    a=len(x)\n",
    "    b=int(0.8*a)\n",
    "\n",
    "    return b"
   ]
  },
  {
   "cell_type": "code",
   "execution_count": 249,
   "metadata": {},
   "outputs": [
    {
     "data": {
      "text/plain": [
       "48"
      ]
     },
     "execution_count": 249,
     "metadata": {},
     "output_type": "execute_result"
    }
   ],
   "source": [
    "slicer(x_temp_end)"
   ]
  },
  {
   "cell_type": "code",
   "execution_count": 250,
   "metadata": {},
   "outputs": [],
   "source": [
    "x_data_front_train, y_data_front_train = x_temp_front[:slicer(x_temp_front)], y_temp_front[:slicer(y_temp_front)]\n",
    "x_data_front_val, y_data_front_val = x_temp_front[slicer(x_temp_front):], y_temp_front[slicer(y_temp_front):]\n",
    "x_data_end_train, y_data_end_train = x_temp_end[:slicer(x_temp_end)], y_temp_end[:slicer(y_temp_end)]\n",
    "x_data_end_val, y_data_end_val = x_temp_end[slicer(x_temp_end):], y_temp_end[slicer(y_temp_end):]"
   ]
  },
  {
   "cell_type": "code",
   "execution_count": 252,
   "metadata": {},
   "outputs": [
    {
     "data": {
      "text/plain": [
       "8"
      ]
     },
     "execution_count": 252,
     "metadata": {},
     "output_type": "execute_result"
    }
   ],
   "source": [
    "len(x_data_front_val)"
   ]
  },
  {
   "cell_type": "code",
   "execution_count": 253,
   "metadata": {},
   "outputs": [],
   "source": [
    "device = 'cuda' if torch.cuda.is_available() else 'cpu'  ##GPU 위로 올리려는 일임 (하드웨어 이슈)\n",
    "\n",
    "x_front_train_tensor = torch.as_tensor(x_data_front_train).to(device)\n",
    "y_front_train_tensor = torch.as_tensor(y_data_front_train).to(device)\n",
    "\n",
    "x_front_val_tensor = torch.as_tensor(x_data_front_val).to(device)\n",
    "y_front_val_tensor = torch.as_tensor(y_data_front_val).to(device)\n",
    "\n",
    "x_end_train_tensor = torch.as_tensor(x_data_end_train).to(device)\n",
    "y_end_train_tensor = torch.as_tensor(y_data_end_train).to(device)\n",
    "\n",
    "x_end_val_tensor = torch.as_tensor(x_data_end_val).to(device)\n",
    "y_end_val_tensor = torch.as_tensor(y_data_end_val).to(device)\n"
   ]
  },
  {
   "cell_type": "markdown",
   "metadata": {},
   "source": [
    "### Model Fitting"
   ]
  },
  {
   "cell_type": "code",
   "execution_count": 273,
   "metadata": {},
   "outputs": [],
   "source": [
    "@timer\n",
    "def quiz_model_1(lr=0.1, epochs=1000):\n",
    "    #Initialize parameters (초기 설정이 엄청 중요)\n",
    "    b = torch.randn(1, requires_grad = True, dtype = torch.float, device = device)\n",
    "    w = torch.randn(1, requires_grad = True, dtype = torch.float, device = device)\n",
    "    \n",
    "    parameters = [b, w]\n",
    "    optimizer = optim.SGD(parameters, lr=lr)\n",
    "    mse_loss = nn.MSELoss()\n",
    "    \n",
    "    np.random.seed(42)\n",
    "    \n",
    "    for epoch in range(epochs):\n",
    "        #Loss computation\n",
    "        y_hat = b + w*x_front_train_tensor\n",
    "        loss = mse_loss(y_hat, y_front_train_tensor)\n",
    "        #Graident computation and descent\n",
    "        loss.backward()\n",
    "        optimizer.step()\n",
    "        optimizer.zero_grad()\n",
    "    \n",
    "    return b, w, loss"
   ]
  },
  {
   "cell_type": "code",
   "execution_count": 283,
   "metadata": {},
   "outputs": [
    {
     "name": "stdout",
     "output_type": "stream",
     "text": [
      "Execution time of quiz_model_1: 0.13006830215454102 seconds\n",
      "b_estimate: tensor([-1.2964], requires_grad=True). w_estimate: tensor([5.3219], requires_grad=True), mse_loss: 0.10461384803056717\n",
      "answer = 0.10461384803056717\n"
     ]
    }
   ],
   "source": [
    "b_hat, w_hat, loss = quiz_model_1()\n",
    "print(\"b_estimate: {}. w_estimate: {}, mse_loss: {}\".format(b_hat, w_hat, loss))\n",
    "\n",
    "print(\"answer = {}\".format(loss))\n",
    "#수업 그대로 선형회귀 적용 시 loss값이 개판인 것을 확인할 수 있다. EDA부터 다시 시작."
   ]
  },
  {
   "cell_type": "markdown",
   "metadata": {},
   "source": [
    "##### 어? 더 이상한데? (시간 관계 상 여기서 stop)"
   ]
  }
 ],
 "metadata": {
  "kernelspec": {
   "display_name": "Python 3",
   "language": "python",
   "name": "python3"
  },
  "language_info": {
   "codemirror_mode": {
    "name": "ipython",
    "version": 3
   },
   "file_extension": ".py",
   "mimetype": "text/x-python",
   "name": "python",
   "nbconvert_exporter": "python",
   "pygments_lexer": "ipython3",
   "version": "3.8.5"
  }
 },
 "nbformat": 4,
 "nbformat_minor": 4
}
