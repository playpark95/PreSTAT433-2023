{
  "nbformat": 4,
  "nbformat_minor": 0,
  "metadata": {
    "colab": {
      "provenance": []
    },
    "kernelspec": {
      "name": "python3",
      "display_name": "Python 3"
    },
    "language_info": {
      "name": "python"
    }
  },
  "cells": [
    {
      "cell_type": "code",
      "execution_count": 106,
      "metadata": {
        "id": "xP9cBQHIcJLg"
      },
      "outputs": [],
      "source": [
        "import torch\n",
        "import torch.nn as nn\n",
        "import torch.nn.functional as F\n",
        "import torchvision.models as models\n",
        "\n",
        "class MLP(nn.Module):\n",
        "    def __init__(self, hidden_variables=[128, 64], input_output_dim=(1, 1)):\n",
        "        super().__init__()\n",
        "        self.input_variable_dim = input_output_dim[0]\n",
        "        self.output_variable_dim = input_output_dim[1]\n",
        "        self.list_hidden_variable = hidden_variables\n",
        "        self.layer = nn.Sequential()\n",
        "\n",
        "        variable_dim = self.input_variable_dim\n",
        "        for i, hidden_variable in enumerate(self.list_hidden_variable):\n",
        "            self.layer.add_module('layer_' + str(i), nn.Linear(variable_dim, hidden_variable, dtype=torch.float32))\n",
        "            self.layer.add_module('activation_' + str(i), nn.ReLU())\n",
        "            variable_dim = hidden_variable\n",
        "        self.layer.add_module('final_layer', nn.Linear(variable_dim, self.output_variable_dim, dtype=torch.float32))\n",
        "\n",
        "    def forward(self, x):\n",
        "        y_hat = self.layer(x)\n",
        "        return y_hat\n",
        "\n",
        "class IonPredictor(nn.Module):\n",
        "    def __init__(self, kernel_size=3, num_features=1000):\n",
        "        super().__init__()\n",
        "\n",
        "        self.cnn = models.resnet18()\n",
        "        self.cnn.conv1 = nn.Conv2d(1, 64, kernel_size=kernel_size, stride=2, padding=3, bias=False)\n",
        "        self.mlp = MLP(input_output_dim=(num_features, 5))\n",
        "\n",
        "    def forward(self, x):\n",
        "\n",
        "        z = self.cnn(x)\n",
        "        z.view(z.size(0), -1)\n",
        "        predict = self.mlp(z)\n",
        "        return predict[:, :4], predict[:, 4]\n",
        "        return feat"
      ]
    },
    {
      "cell_type": "code",
      "source": [
        "batch_size = 16\n",
        "model = IonPredictor()\n",
        "input_data = torch.randn(size=(batch_size, 1, 10, 300)) # (batch_size, C, H, W)\n",
        "predict = model(input_data)"
      ],
      "metadata": {
        "id": "tDEj8anfd4m5"
      },
      "execution_count": 107,
      "outputs": []
    },
    {
      "cell_type": "code",
      "source": [
        "(predict[0].shape, predict[1].shape)"
      ],
      "metadata": {
        "colab": {
          "base_uri": "https://localhost:8080/"
        },
        "id": "uit7DR5ljODZ",
        "outputId": "3cbaaefd-a70c-4b26-f5b9-0faa00dbba1f"
      },
      "execution_count": 108,
      "outputs": [
        {
          "output_type": "execute_result",
          "data": {
            "text/plain": [
              "(torch.Size([16, 4]), torch.Size([16]))"
            ]
          },
          "metadata": {},
          "execution_count": 108
        }
      ]
    },
    {
      "cell_type": "code",
      "source": [],
      "metadata": {
        "id": "viwKK2ZJjPBs"
      },
      "execution_count": null,
      "outputs": []
    }
  ]
}