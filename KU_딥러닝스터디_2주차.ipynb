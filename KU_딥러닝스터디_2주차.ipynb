{
  "nbformat": 4,
  "nbformat_minor": 0,
  "metadata": {
    "colab": {
      "provenance": [],
      "include_colab_link": true
    },
    "kernelspec": {
      "name": "python3",
      "display_name": "Python 3"
    },
    "language_info": {
      "name": "python"
    }
  },
  "cells": [
    {
      "cell_type": "markdown",
      "metadata": {
        "id": "view-in-github",
        "colab_type": "text"
      },
      "source": [
        "<a href=\"https://colab.research.google.com/github/playpark95/PreSTAT433-2023_Observer2/blob/main/KU_%EB%94%A5%EB%9F%AC%EB%8B%9D%EC%8A%A4%ED%84%B0%EB%94%94_2%EC%A3%BC%EC%B0%A8.ipynb\" target=\"_parent\"><img src=\"https://colab.research.google.com/assets/colab-badge.svg\" alt=\"Open In Colab\"/></a>"
      ]
    },
    {
      "cell_type": "code",
      "execution_count": null,
      "metadata": {
        "id": "sM7AWZ265Sxu"
      },
      "outputs": [],
      "source": [
        "import time\n",
        "def timer(func):\n",
        "    def wrapper(*args, **kwargs):\n",
        "        start_time = time.time()\n",
        "        result = func(*args, **kwargs)\n",
        "        end_time = time.time()\n",
        "        computation_time = end_time - start_time\n",
        "        print(f\"Execution time of {func.__name__}: {computation_time} seconds\")\n",
        "        return result\n",
        "    return wrapper"
      ]
    },
    {
      "cell_type": "code",
      "source": [
        "import numpy as np\n",
        "def test_fun(N=100):\n",
        "    x = np.random.rand(N, 1)\n",
        "    epsilon = (0.1 * np.random.randn(N, 1))\n",
        "\n",
        "    fun_value = 0.8 * x ** 2 - 0.5 * x + np.sin(5 * x) + 0.5 * np.log(x) + epsilon\n",
        "    return x, fun_value\n",
        "\n",
        "np.random.seed(42)\n",
        "\n",
        "N=100\n",
        "x, y = test_fun(N) # data generation"
      ],
      "metadata": {
        "id": "O4AkEgtT5ZUe"
      },
      "execution_count": null,
      "outputs": []
    },
    {
      "cell_type": "code",
      "source": [
        "import matplotlib.pyplot as plt\n",
        "plt.scatter(x, y)"
      ],
      "metadata": {
        "colab": {
          "base_uri": "https://localhost:8080/",
          "height": 447
        },
        "id": "9o0pjmCg5aYY",
        "outputId": "4629488b-9172-4832-d9ee-651cc472ccea"
      },
      "execution_count": null,
      "outputs": [
        {
          "output_type": "execute_result",
          "data": {
            "text/plain": [
              "<matplotlib.collections.PathCollection at 0x7a18704ff220>"
            ]
          },
          "metadata": {},
          "execution_count": 3
        },
        {
          "output_type": "display_data",
          "data": {
            "text/plain": [
              "<Figure size 640x480 with 1 Axes>"
            ],
            "image/png": "[encoded data removed]"
          },
          "metadata": {}
        }
      ]
    },
    {
      "cell_type": "code",
      "source": [
        "import torch\n",
        "import torch.nn as nn\n",
        "import torch.optim as optim"
      ],
      "metadata": {
        "id": "yxW95ljR5boH"
      },
      "execution_count": null,
      "outputs": []
    },
    {
      "cell_type": "code",
      "source": [
        "# Shuffles the indices\n",
        "idx = np.arange(N)\n",
        "split_index = int(N * 0.8) # train-validation split\n",
        "\n",
        "train_idx = idx[:split_index]\n",
        "val_idx = idx[split_index:]\n",
        "\n",
        "# Generates train and validation sets\n",
        "x_train, y_train = x[train_idx], y[train_idx]\n",
        "x_val, y_val = x[val_idx], y[val_idx]\n",
        "\n",
        "# create tensor at GPU\n",
        "device = 'cuda' if torch.cuda.is_available() else 'cpu'\n",
        "x_train_tensor = torch.as_tensor(x_train).to(device)\n",
        "y_train_tensor = torch.as_tensor(y_train).to(device)\n",
        "x_val_tensor = torch.as_tensor(x_val).to(device)\n",
        "y_val_tensor = torch.as_tensor(y_val).to(device)"
      ],
      "metadata": {
        "id": "3R0US8rb5c8J"
      },
      "execution_count": null,
      "outputs": []
    },
    {
      "cell_type": "code",
      "source": [
        "@timer\n",
        "def train_model_torch(lr=0.1, epochs=1000):\n",
        "\n",
        "    optimizer = optim.SGD(model.parameters(), lr=lr)\n",
        "    mse_loss = nn.MSELoss(reduction='mean')\n",
        "\n",
        "    for epoch in range(epochs):\n",
        "        # Loss computation\n",
        "        y_hat = model(x_train_tensor)\n",
        "        loss = mse_loss(y_hat, y_train_tensor)\n",
        "\n",
        "        # Standard PyTorch code for training\n",
        "        loss.backward()\n",
        "        optimizer.step()\n",
        "        optimizer.zero_grad()\n",
        "\n",
        "    # Evaluate train loss\n",
        "    print(\"train loss:{}\".format(loss))\n",
        "\n",
        "    # Evaluate test loss\n",
        "    y_hat_val = model(x_val_tensor)\n",
        "    test_loss = mse_loss(y_hat_val, y_val_tensor).detach()\n",
        "\n",
        "    print(\"test loss:{}\".format(test_loss))"
      ],
      "metadata": {
        "id": "ylKJCcLZ5dxP"
      },
      "execution_count": null,
      "outputs": []
    },
    {
      "cell_type": "code",
      "source": [
        "!pip install torchviz\n",
        "from torchviz import make_dot"
      ],
      "metadata": {
        "colab": {
          "base_uri": "https://localhost:8080/"
        },
        "id": "GGvBFPtA5fUE",
        "outputId": "1240f8fa-f49f-4f0f-b686-48e069dc56d2"
      },
      "execution_count": null,
      "outputs": [
        {
          "output_type": "stream",
          "name": "stdout",
          "text": [
            "Collecting torchviz\n",
            "  Downloading torchviz-0.0.2.tar.gz (4.9 kB)\n",
            "  Preparing metadata (setup.py) ... \u001b[?25l\u001b[?25hdone\n",
            "Requirement already satisfied: torch in /usr/local/lib/python3.10/dist-packages (from torchviz) (2.0.1+cu118)\n",
            "Requirement already satisfied: graphviz in /usr/local/lib/python3.10/dist-packages (from torchviz) (0.20.1)\n",
            "Requirement already satisfied: filelock in /usr/local/lib/python3.10/dist-packages (from torch->torchviz) (3.12.2)\n",
            "Requirement already satisfied: typing-extensions in /usr/local/lib/python3.10/dist-packages (from torch->torchviz) (4.7.1)\n",
            "Requirement already satisfied: sympy in /usr/local/lib/python3.10/dist-packages (from torch->torchviz) (1.11.1)\n",
            "Requirement already satisfied: networkx in /usr/local/lib/python3.10/dist-packages (from torch->torchviz) (3.1)\n",
            "Requirement already satisfied: jinja2 in /usr/local/lib/python3.10/dist-packages (from torch->torchviz) (3.1.2)\n",
            "Requirement already satisfied: triton==2.0.0 in /usr/local/lib/python3.10/dist-packages (from torch->torchviz) (2.0.0)\n",
            "Requirement already satisfied: cmake in /usr/local/lib/python3.10/dist-packages (from triton==2.0.0->torch->torchviz) (3.25.2)\n",
            "Requirement already satisfied: lit in /usr/local/lib/python3.10/dist-packages (from triton==2.0.0->torch->torchviz) (16.0.6)\n",
            "Requirement already satisfied: MarkupSafe>=2.0 in /usr/local/lib/python3.10/dist-packages (from jinja2->torch->torchviz) (2.1.3)\n",
            "Requirement already satisfied: mpmath>=0.19 in /usr/local/lib/python3.10/dist-packages (from sympy->torch->torchviz) (1.3.0)\n",
            "Building wheels for collected packages: torchviz\n",
            "  Building wheel for torchviz (setup.py) ... \u001b[?25l\u001b[?25hdone\n",
            "  Created wheel for torchviz: filename=torchviz-0.0.2-py3-none-any.whl size=4131 sha256=b657c56b32bc8c013b4478f5624fe5c73389803e4389bab66acdeb5c8922df79\n",
            "  Stored in directory: /root/.cache/pip/wheels/4c/97/88/a02973217949e0db0c9f4346d154085f4725f99c4f15a87094\n",
            "Successfully built torchviz\n",
            "Installing collected packages: torchviz\n",
            "Successfully installed torchviz-0.0.2\n"
          ]
        }
      ]
    },
    {
      "cell_type": "code",
      "source": [
        "import torch.nn as nn\n",
        "\n",
        "class NonlinearRegression(nn.Module):\n",
        "    def __init__(self, hidden_variable=10):\n",
        "        super().__init__()\n",
        "        # To make \"b\" and \"w\" real parameters of the model,\n",
        "        # we need to wrap them with nn.Parameter\n",
        "        self.hidden_variable = hidden_variable\n",
        "        self.b = nn.Parameter(torch.randn(1, requires_grad=True, dtype=torch.float64))\n",
        "        self.w1 = nn.Parameter(torch.randn((1, self.hidden_variable),\n",
        "                                          requires_grad=True, dtype=torch.float64))\n",
        "        self.w2 = nn.Parameter(torch.randn((self.hidden_variable, 1),\n",
        "                                          requires_grad=True, dtype=torch.float64))\n",
        "    def forward(self, x):\n",
        "    # Computes the outputs / predictions\n",
        "        return torch.tanh_(self.b + x @ self.w1) @ self.w2"
      ],
      "metadata": {
        "id": "LUka3RCH8HMs"
      },
      "execution_count": null,
      "outputs": []
    },
    {
      "cell_type": "code",
      "source": [
        "class DeepRegression(nn.Module):\n",
        "    def __init__(self, hidden_variables=[10, 20, 10], input_output_dim=(1, 1)):\n",
        "        super().__init__()\n",
        "        # Concise Implementation\n",
        "        self.input_variable_dim = input_output_dim[0]\n",
        "        self.output_variable_dim = input_output_dim[1]\n",
        "        self.list_hidden_variable = hidden_variables\n",
        "        self.layer = nn.Sequential()\n",
        "\n",
        "        variable_dim = self.input_variable_dim\n",
        "        for i, hidden_variable in enumerate(self.list_hidden_variable):\n",
        "            self.layer.add_module('layer_' + str(i), nn.Linear(variable_dim, hidden_variable, dtype=torch.float64))\n",
        "            self.layer.add_module('activation_' + str(i), nn.Tanh())\n",
        "            variable_dim = hidden_variable\n",
        "        self.layer.add_module('final_layer', nn.Linear(variable_dim, self.output_variable_dim, dtype=torch.float64))\n",
        "\n",
        "    def forward(self, x):\n",
        "    # Computes the outputs / predictions\n",
        "        y_hat = self.layer(x)\n",
        "        return y_hat\n",
        "\n",
        "model = DeepRegression().to(device)\n",
        "make_dot(model(x_train_tensor))"
      ],
      "metadata": {
        "colab": {
          "base_uri": "https://localhost:8080/",
          "height": 934
        },
        "id": "9DCAfM8u5gXN",
        "outputId": "b19e8963-7e57-4302-b9ad-c119c5e23078"
      },
      "execution_count": null,
      "outputs": [
        {
          "output_type": "execute_result",
          "data": {
            "image/svg+xml": "<?xml version=\"1.0\" encoding=\"UTF-8\" standalone=\"no\"?>\n<!DOCTYPE svg PUBLIC \"-//W3C//DTD SVG 1.1//EN\"\n \"http://www.w3.org/Graphics/SVG/1.1/DTD/svg11.dtd\">\n<!-- Generated by graphviz version 2.43.0 (0)\n -->\n<!-- Title: %3 Pages: 1 -->\n<svg width=\"446pt\" height=\"685pt\"\n viewBox=\"0.00 0.00 446.00 685.00\" xmlns=\"http://www.w3.org/2000/svg\" xmlns:xlink=\"http://www.w3.org/1999/xlink\">\n<g id=\"graph0\" class=\"graph\" transform=\"scale(1 1) rotate(0) translate(4 681)\">\n<title>%3</title>\n<polygon fill=\"white\" stroke=\"transparent\" points=\"-4,4 -4,-681 442,-681 442,4 -4,4\"/>\n<!-- 134242090226832 -->\n<g id=\"node1\" class=\"node\">\n<title>134242090226832</title>\n<polygon fill=\"#caff70\" stroke=\"black\" points=\"286,-31 221,-31 221,0 286,0 286,-31\"/>\n<text text-anchor=\"middle\" x=\"253.5\" y=\"-7\" font-family=\"monospace\" font-size=\"10.00\"> (80, 1)</text>\n</g>\n<!-- 134242067147664 -->\n<g id=\"node2\" class=\"node\">\n<title>134242067147664</title>\n<polygon fill=\"lightgrey\" stroke=\"black\" points=\"304,-86 203,-86 203,-67 304,-67 304,-86\"/>\n<text text-anchor=\"middle\" x=\"253.5\" y=\"-74\" font-family=\"monospace\" font-size=\"10.00\">AddmmBackward0</text>\n</g>\n<!-- 134242067147664&#45;&gt;134242090226832 -->\n<g id=\"edge27\" class=\"edge\">\n<title>134242067147664&#45;&gt;134242090226832</title>\n<path fill=\"none\" stroke=\"black\" d=\"M253.5,-66.79C253.5,-60.07 253.5,-50.4 253.5,-41.34\"/>\n<polygon fill=\"black\" stroke=\"black\" points=\"257,-41.19 253.5,-31.19 250,-41.19 257,-41.19\"/>\n</g>\n<!-- 134242067151408 -->\n<g id=\"node3\" class=\"node\">\n<title>134242067151408</title>\n<polygon fill=\"lightgrey\" stroke=\"black\" points=\"188,-141 87,-141 87,-122 188,-122 188,-141\"/>\n<text text-anchor=\"middle\" x=\"137.5\" y=\"-129\" font-family=\"monospace\" font-size=\"10.00\">AccumulateGrad</text>\n</g>\n<!-- 134242067151408&#45;&gt;134242067147664 -->\n<g id=\"edge1\" class=\"edge\">\n<title>134242067151408&#45;&gt;134242067147664</title>\n<path fill=\"none\" stroke=\"black\" d=\"M156.14,-121.98C174.8,-113.46 203.75,-100.23 225.24,-90.41\"/>\n<polygon fill=\"black\" stroke=\"black\" points=\"226.88,-93.51 234.52,-86.17 223.97,-87.14 226.88,-93.51\"/>\n</g>\n<!-- 134242067547216 -->\n<g id=\"node4\" class=\"node\">\n<title>134242067547216</title>\n<polygon fill=\"lightblue\" stroke=\"black\" points=\"164.5,-208 110.5,-208 110.5,-177 164.5,-177 164.5,-208\"/>\n<text text-anchor=\"middle\" x=\"137.5\" y=\"-184\" font-family=\"monospace\" font-size=\"10.00\"> (1)</text>\n</g>\n<!-- 134242067547216&#45;&gt;134242067151408 -->\n<g id=\"edge2\" class=\"edge\">\n<title>134242067547216&#45;&gt;134242067151408</title>\n<path fill=\"none\" stroke=\"black\" d=\"M137.5,-176.92C137.5,-169.22 137.5,-159.69 137.5,-151.43\"/>\n<polygon fill=\"black\" stroke=\"black\" points=\"141,-151.25 137.5,-141.25 134,-151.25 141,-151.25\"/>\n</g>\n<!-- 134242067141280 -->\n<g id=\"node5\" class=\"node\">\n<title>134242067141280</title>\n<polygon fill=\"lightgrey\" stroke=\"black\" points=\"301,-141 206,-141 206,-122 301,-122 301,-141\"/>\n<text text-anchor=\"middle\" x=\"253.5\" y=\"-129\" font-family=\"monospace\" font-size=\"10.00\">TanhBackward0</text>\n</g>\n<!-- 134242067141280&#45;&gt;134242067147664 -->\n<g id=\"edge3\" class=\"edge\">\n<title>134242067141280&#45;&gt;134242067147664</title>\n<path fill=\"none\" stroke=\"black\" d=\"M253.5,-121.75C253.5,-114.8 253.5,-104.85 253.5,-96.13\"/>\n<polygon fill=\"black\" stroke=\"black\" points=\"257,-96.09 253.5,-86.09 250,-96.09 257,-96.09\"/>\n</g>\n<!-- 134242067149008 -->\n<g id=\"node6\" class=\"node\">\n<title>134242067149008</title>\n<polygon fill=\"lightgrey\" stroke=\"black\" points=\"299,-202 198,-202 198,-183 299,-183 299,-202\"/>\n<text text-anchor=\"middle\" x=\"248.5\" y=\"-190\" font-family=\"monospace\" font-size=\"10.00\">AddmmBackward0</text>\n</g>\n<!-- 134242067149008&#45;&gt;134242067141280 -->\n<g id=\"edge4\" class=\"edge\">\n<title>134242067149008&#45;&gt;134242067141280</title>\n<path fill=\"none\" stroke=\"black\" d=\"M249.24,-182.79C249.94,-174.52 251.02,-161.79 251.91,-151.21\"/>\n<polygon fill=\"black\" stroke=\"black\" points=\"255.4,-151.5 252.76,-141.24 248.43,-150.91 255.4,-151.5\"/>\n</g>\n<!-- 134242067143488 -->\n<g id=\"node7\" class=\"node\">\n<title>134242067143488</title>\n<polygon fill=\"lightgrey\" stroke=\"black\" points=\"147,-269 46,-269 46,-250 147,-250 147,-269\"/>\n<text text-anchor=\"middle\" x=\"96.5\" y=\"-257\" font-family=\"monospace\" font-size=\"10.00\">AccumulateGrad</text>\n</g>\n<!-- 134242067143488&#45;&gt;134242067149008 -->\n<g id=\"edge5\" class=\"edge\">\n<title>134242067143488&#45;&gt;134242067149008</title>\n<path fill=\"none\" stroke=\"black\" d=\"M116.68,-249.87C142.8,-238.7 188.53,-219.15 218.66,-206.26\"/>\n<polygon fill=\"black\" stroke=\"black\" points=\"220.41,-209.32 228.23,-202.17 217.66,-202.88 220.41,-209.32\"/>\n</g>\n<!-- 134242067558896 -->\n<g id=\"node8\" class=\"node\">\n<title>134242067558896</title>\n<polygon fill=\"lightblue\" stroke=\"black\" points=\"123.5,-342 69.5,-342 69.5,-311 123.5,-311 123.5,-342\"/>\n<text text-anchor=\"middle\" x=\"96.5\" y=\"-318\" font-family=\"monospace\" font-size=\"10.00\"> (10)</text>\n</g>\n<!-- 134242067558896&#45;&gt;134242067143488 -->\n<g id=\"edge6\" class=\"edge\">\n<title>134242067558896&#45;&gt;134242067143488</title>\n<path fill=\"none\" stroke=\"black\" d=\"M96.5,-310.75C96.5,-301.39 96.5,-289.19 96.5,-279.16\"/>\n<polygon fill=\"black\" stroke=\"black\" points=\"100,-279.02 96.5,-269.02 93,-279.02 100,-279.02\"/>\n</g>\n<!-- 134242067149152 -->\n<g id=\"node9\" class=\"node\">\n<title>134242067149152</title>\n<polygon fill=\"lightgrey\" stroke=\"black\" points=\"260,-269 165,-269 165,-250 260,-250 260,-269\"/>\n<text text-anchor=\"middle\" x=\"212.5\" y=\"-257\" font-family=\"monospace\" font-size=\"10.00\">TanhBackward0</text>\n</g>\n<!-- 134242067149152&#45;&gt;134242067149008 -->\n<g id=\"edge7\" class=\"edge\">\n<title>134242067149152&#45;&gt;134242067149008</title>\n<path fill=\"none\" stroke=\"black\" d=\"M217.36,-249.73C222.81,-239.89 231.8,-223.66 238.72,-211.16\"/>\n<polygon fill=\"black\" stroke=\"black\" points=\"241.94,-212.57 243.72,-202.13 235.81,-209.18 241.94,-212.57\"/>\n</g>\n<!-- 134242067149728 -->\n<g id=\"node10\" class=\"node\">\n<title>134242067149728</title>\n<polygon fill=\"lightgrey\" stroke=\"black\" points=\"254,-336 153,-336 153,-317 254,-317 254,-336\"/>\n<text text-anchor=\"middle\" x=\"203.5\" y=\"-324\" font-family=\"monospace\" font-size=\"10.00\">AddmmBackward0</text>\n</g>\n<!-- 134242067149728&#45;&gt;134242067149152 -->\n<g id=\"edge8\" class=\"edge\">\n<title>134242067149728&#45;&gt;134242067149152</title>\n<path fill=\"none\" stroke=\"black\" d=\"M204.71,-316.73C206.04,-307.18 208.19,-291.62 209.9,-279.28\"/>\n<polygon fill=\"black\" stroke=\"black\" points=\"213.4,-279.51 211.31,-269.13 206.47,-278.55 213.4,-279.51\"/>\n</g>\n<!-- 134242067149920 -->\n<g id=\"node11\" class=\"node\">\n<title>134242067149920</title>\n<polygon fill=\"lightgrey\" stroke=\"black\" points=\"101,-403 0,-403 0,-384 101,-384 101,-403\"/>\n<text text-anchor=\"middle\" x=\"50.5\" y=\"-391\" font-family=\"monospace\" font-size=\"10.00\">AccumulateGrad</text>\n</g>\n<!-- 134242067149920&#45;&gt;134242067149728 -->\n<g id=\"edge9\" class=\"edge\">\n<title>134242067149920&#45;&gt;134242067149728</title>\n<path fill=\"none\" stroke=\"black\" d=\"M70.82,-383.87C97.22,-372.65 143.53,-352.98 173.86,-340.09\"/>\n<polygon fill=\"black\" stroke=\"black\" points=\"175.26,-343.3 183.1,-336.17 172.53,-336.86 175.26,-343.3\"/>\n</g>\n<!-- 134242067558656 -->\n<g id=\"node12\" class=\"node\">\n<title>134242067558656</title>\n<polygon fill=\"lightblue\" stroke=\"black\" points=\"77.5,-476 23.5,-476 23.5,-445 77.5,-445 77.5,-476\"/>\n<text text-anchor=\"middle\" x=\"50.5\" y=\"-452\" font-family=\"monospace\" font-size=\"10.00\"> (20)</text>\n</g>\n<!-- 134242067558656&#45;&gt;134242067149920 -->\n<g id=\"edge10\" class=\"edge\">\n<title>134242067558656&#45;&gt;134242067149920</title>\n<path fill=\"none\" stroke=\"black\" d=\"M50.5,-444.75C50.5,-435.39 50.5,-423.19 50.5,-413.16\"/>\n<polygon fill=\"black\" stroke=\"black\" points=\"54,-413.02 50.5,-403.02 47,-413.02 54,-413.02\"/>\n</g>\n<!-- 134242067149872 -->\n<g id=\"node13\" class=\"node\">\n<title>134242067149872</title>\n<polygon fill=\"lightgrey\" stroke=\"black\" points=\"214,-403 119,-403 119,-384 214,-384 214,-403\"/>\n<text text-anchor=\"middle\" x=\"166.5\" y=\"-391\" font-family=\"monospace\" font-size=\"10.00\">TanhBackward0</text>\n</g>\n<!-- 134242067149872&#45;&gt;134242067149728 -->\n<g id=\"edge11\" class=\"edge\">\n<title>134242067149872&#45;&gt;134242067149728</title>\n<path fill=\"none\" stroke=\"black\" d=\"M171.49,-383.73C177.09,-373.89 186.33,-357.66 193.45,-345.16\"/>\n<polygon fill=\"black\" stroke=\"black\" points=\"196.68,-346.55 198.59,-336.13 190.6,-343.09 196.68,-346.55\"/>\n</g>\n<!-- 134242067150016 -->\n<g id=\"node14\" class=\"node\">\n<title>134242067150016</title>\n<polygon fill=\"lightgrey\" stroke=\"black\" points=\"209,-470 108,-470 108,-451 209,-451 209,-470\"/>\n<text text-anchor=\"middle\" x=\"158.5\" y=\"-458\" font-family=\"monospace\" font-size=\"10.00\">AddmmBackward0</text>\n</g>\n<!-- 134242067150016&#45;&gt;134242067149872 -->\n<g id=\"edge12\" class=\"edge\">\n<title>134242067150016&#45;&gt;134242067149872</title>\n<path fill=\"none\" stroke=\"black\" d=\"M159.58,-450.73C160.75,-441.18 162.67,-425.62 164.19,-413.28\"/>\n<polygon fill=\"black\" stroke=\"black\" points=\"167.69,-413.48 165.44,-403.13 160.74,-412.62 167.69,-413.48\"/>\n</g>\n<!-- 134242067149344 -->\n<g id=\"node15\" class=\"node\">\n<title>134242067149344</title>\n<polygon fill=\"lightgrey\" stroke=\"black\" points=\"115,-537 14,-537 14,-518 115,-518 115,-537\"/>\n<text text-anchor=\"middle\" x=\"64.5\" y=\"-525\" font-family=\"monospace\" font-size=\"10.00\">AccumulateGrad</text>\n</g>\n<!-- 134242067149344&#45;&gt;134242067150016 -->\n<g id=\"edge13\" class=\"edge\">\n<title>134242067149344&#45;&gt;134242067150016</title>\n<path fill=\"none\" stroke=\"black\" d=\"M77.18,-517.73C92.68,-507.01 119.14,-488.72 137.66,-475.91\"/>\n<polygon fill=\"black\" stroke=\"black\" points=\"139.79,-478.69 146.02,-470.13 135.81,-472.94 139.79,-478.69\"/>\n</g>\n<!-- 134242096765488 -->\n<g id=\"node16\" class=\"node\">\n<title>134242096765488</title>\n<polygon fill=\"lightblue\" stroke=\"black\" points=\"91.5,-610 37.5,-610 37.5,-579 91.5,-579 91.5,-610\"/>\n<text text-anchor=\"middle\" x=\"64.5\" y=\"-586\" font-family=\"monospace\" font-size=\"10.00\"> (10)</text>\n</g>\n<!-- 134242096765488&#45;&gt;134242067149344 -->\n<g id=\"edge14\" class=\"edge\">\n<title>134242096765488&#45;&gt;134242067149344</title>\n<path fill=\"none\" stroke=\"black\" d=\"M64.5,-578.75C64.5,-569.39 64.5,-557.19 64.5,-547.16\"/>\n<polygon fill=\"black\" stroke=\"black\" points=\"68,-547.02 64.5,-537.02 61,-547.02 68,-547.02\"/>\n</g>\n<!-- 134242067149392 -->\n<g id=\"node17\" class=\"node\">\n<title>134242067149392</title>\n<polygon fill=\"lightgrey\" stroke=\"black\" points=\"210,-537 133,-537 133,-518 210,-518 210,-537\"/>\n<text text-anchor=\"middle\" x=\"171.5\" y=\"-525\" font-family=\"monospace\" font-size=\"10.00\">TBackward0</text>\n</g>\n<!-- 134242067149392&#45;&gt;134242067150016 -->\n<g id=\"edge15\" class=\"edge\">\n<title>134242067149392&#45;&gt;134242067150016</title>\n<path fill=\"none\" stroke=\"black\" d=\"M169.75,-517.73C167.84,-508.18 164.72,-492.62 162.26,-480.28\"/>\n<polygon fill=\"black\" stroke=\"black\" points=\"165.62,-479.25 160.23,-470.13 158.75,-480.62 165.62,-479.25\"/>\n</g>\n<!-- 134242067149296 -->\n<g id=\"node18\" class=\"node\">\n<title>134242067149296</title>\n<polygon fill=\"lightgrey\" stroke=\"black\" points=\"222,-604 121,-604 121,-585 222,-585 222,-604\"/>\n<text text-anchor=\"middle\" x=\"171.5\" y=\"-592\" font-family=\"monospace\" font-size=\"10.00\">AccumulateGrad</text>\n</g>\n<!-- 134242067149296&#45;&gt;134242067149392 -->\n<g id=\"edge16\" class=\"edge\">\n<title>134242067149296&#45;&gt;134242067149392</title>\n<path fill=\"none\" stroke=\"black\" d=\"M171.5,-584.73C171.5,-575.18 171.5,-559.62 171.5,-547.28\"/>\n<polygon fill=\"black\" stroke=\"black\" points=\"175,-547.13 171.5,-537.13 168,-547.13 175,-547.13\"/>\n</g>\n<!-- 134242086950432 -->\n<g id=\"node19\" class=\"node\">\n<title>134242086950432</title>\n<polygon fill=\"lightblue\" stroke=\"black\" points=\"204,-677 139,-677 139,-646 204,-646 204,-677\"/>\n<text text-anchor=\"middle\" x=\"171.5\" y=\"-653\" font-family=\"monospace\" font-size=\"10.00\"> (10, 1)</text>\n</g>\n<!-- 134242086950432&#45;&gt;134242067149296 -->\n<g id=\"edge17\" class=\"edge\">\n<title>134242086950432&#45;&gt;134242067149296</title>\n<path fill=\"none\" stroke=\"black\" d=\"M171.5,-645.75C171.5,-636.39 171.5,-624.19 171.5,-614.16\"/>\n<polygon fill=\"black\" stroke=\"black\" points=\"175,-614.02 171.5,-604.02 168,-614.02 175,-614.02\"/>\n</g>\n<!-- 134242067149824 -->\n<g id=\"node20\" class=\"node\">\n<title>134242067149824</title>\n<polygon fill=\"lightgrey\" stroke=\"black\" points=\"309,-403 232,-403 232,-384 309,-384 309,-403\"/>\n<text text-anchor=\"middle\" x=\"270.5\" y=\"-391\" font-family=\"monospace\" font-size=\"10.00\">TBackward0</text>\n</g>\n<!-- 134242067149824&#45;&gt;134242067149728 -->\n<g id=\"edge18\" class=\"edge\">\n<title>134242067149824&#45;&gt;134242067149728</title>\n<path fill=\"none\" stroke=\"black\" d=\"M261.46,-383.73C250.82,-373.4 232.92,-356.04 219.82,-343.33\"/>\n<polygon fill=\"black\" stroke=\"black\" points=\"222.01,-340.58 212.39,-336.13 217.13,-345.6 222.01,-340.58\"/>\n</g>\n<!-- 134242067136720 -->\n<g id=\"node21\" class=\"node\">\n<title>134242067136720</title>\n<polygon fill=\"lightgrey\" stroke=\"black\" points=\"328,-470 227,-470 227,-451 328,-451 328,-470\"/>\n<text text-anchor=\"middle\" x=\"277.5\" y=\"-458\" font-family=\"monospace\" font-size=\"10.00\">AccumulateGrad</text>\n</g>\n<!-- 134242067136720&#45;&gt;134242067149824 -->\n<g id=\"edge19\" class=\"edge\">\n<title>134242067136720&#45;&gt;134242067149824</title>\n<path fill=\"none\" stroke=\"black\" d=\"M276.56,-450.73C275.53,-441.18 273.85,-425.62 272.52,-413.28\"/>\n<polygon fill=\"black\" stroke=\"black\" points=\"275.98,-412.7 271.43,-403.13 269.02,-413.44 275.98,-412.7\"/>\n</g>\n<!-- 134242067548336 -->\n<g id=\"node22\" class=\"node\">\n<title>134242067548336</title>\n<polygon fill=\"lightblue\" stroke=\"black\" points=\"313,-543 242,-543 242,-512 313,-512 313,-543\"/>\n<text text-anchor=\"middle\" x=\"277.5\" y=\"-519\" font-family=\"monospace\" font-size=\"10.00\"> (20, 10)</text>\n</g>\n<!-- 134242067548336&#45;&gt;134242067136720 -->\n<g id=\"edge20\" class=\"edge\">\n<title>134242067548336&#45;&gt;134242067136720</title>\n<path fill=\"none\" stroke=\"black\" d=\"M277.5,-511.75C277.5,-502.39 277.5,-490.19 277.5,-480.16\"/>\n<polygon fill=\"black\" stroke=\"black\" points=\"281,-480.02 277.5,-470.02 274,-480.02 281,-480.02\"/>\n</g>\n<!-- 134242067149104 -->\n<g id=\"node23\" class=\"node\">\n<title>134242067149104</title>\n<polygon fill=\"lightgrey\" stroke=\"black\" points=\"355,-269 278,-269 278,-250 355,-250 355,-269\"/>\n<text text-anchor=\"middle\" x=\"316.5\" y=\"-257\" font-family=\"monospace\" font-size=\"10.00\">TBackward0</text>\n</g>\n<!-- 134242067149104&#45;&gt;134242067149008 -->\n<g id=\"edge21\" class=\"edge\">\n<title>134242067149104&#45;&gt;134242067149008</title>\n<path fill=\"none\" stroke=\"black\" d=\"M307.33,-249.73C296.52,-239.4 278.35,-222.04 265.06,-209.33\"/>\n<polygon fill=\"black\" stroke=\"black\" points=\"267.17,-206.51 257.53,-202.13 262.34,-211.57 267.17,-206.51\"/>\n</g>\n<!-- 134242067150112 -->\n<g id=\"node24\" class=\"node\">\n<title>134242067150112</title>\n<polygon fill=\"lightgrey\" stroke=\"black\" points=\"375,-336 274,-336 274,-317 375,-317 375,-336\"/>\n<text text-anchor=\"middle\" x=\"324.5\" y=\"-324\" font-family=\"monospace\" font-size=\"10.00\">AccumulateGrad</text>\n</g>\n<!-- 134242067150112&#45;&gt;134242067149104 -->\n<g id=\"edge22\" class=\"edge\">\n<title>134242067150112&#45;&gt;134242067149104</title>\n<path fill=\"none\" stroke=\"black\" d=\"M323.42,-316.73C322.25,-307.18 320.33,-291.62 318.81,-279.28\"/>\n<polygon fill=\"black\" stroke=\"black\" points=\"322.26,-278.62 317.56,-269.13 315.31,-279.48 322.26,-278.62\"/>\n</g>\n<!-- 134242067558736 -->\n<g id=\"node25\" class=\"node\">\n<title>134242067558736</title>\n<polygon fill=\"lightblue\" stroke=\"black\" points=\"398,-409 327,-409 327,-378 398,-378 398,-409\"/>\n<text text-anchor=\"middle\" x=\"362.5\" y=\"-385\" font-family=\"monospace\" font-size=\"10.00\"> (10, 20)</text>\n</g>\n<!-- 134242067558736&#45;&gt;134242067150112 -->\n<g id=\"edge23\" class=\"edge\">\n<title>134242067558736&#45;&gt;134242067150112</title>\n<path fill=\"none\" stroke=\"black\" d=\"M353.88,-377.75C348.17,-367.99 340.66,-355.14 334.66,-344.88\"/>\n<polygon fill=\"black\" stroke=\"black\" points=\"337.55,-342.89 329.48,-336.02 331.51,-346.42 337.55,-342.89\"/>\n</g>\n<!-- 134242067140992 -->\n<g id=\"node26\" class=\"node\">\n<title>134242067140992</title>\n<polygon fill=\"lightgrey\" stroke=\"black\" points=\"404,-141 327,-141 327,-122 404,-122 404,-141\"/>\n<text text-anchor=\"middle\" x=\"365.5\" y=\"-129\" font-family=\"monospace\" font-size=\"10.00\">TBackward0</text>\n</g>\n<!-- 134242067140992&#45;&gt;134242067147664 -->\n<g id=\"edge24\" class=\"edge\">\n<title>134242067140992&#45;&gt;134242067147664</title>\n<path fill=\"none\" stroke=\"black\" d=\"M347.51,-121.98C329.57,-113.5 301.78,-100.35 281.07,-90.54\"/>\n<polygon fill=\"black\" stroke=\"black\" points=\"282.36,-87.28 271.82,-86.17 279.36,-93.61 282.36,-87.28\"/>\n</g>\n<!-- 134242067149968 -->\n<g id=\"node27\" class=\"node\">\n<title>134242067149968</title>\n<polygon fill=\"lightgrey\" stroke=\"black\" points=\"420,-202 319,-202 319,-183 420,-183 420,-202\"/>\n<text text-anchor=\"middle\" x=\"369.5\" y=\"-190\" font-family=\"monospace\" font-size=\"10.00\">AccumulateGrad</text>\n</g>\n<!-- 134242067149968&#45;&gt;134242067140992 -->\n<g id=\"edge25\" class=\"edge\">\n<title>134242067149968&#45;&gt;134242067140992</title>\n<path fill=\"none\" stroke=\"black\" d=\"M368.91,-182.79C368.35,-174.6 367.5,-162.06 366.79,-151.55\"/>\n<polygon fill=\"black\" stroke=\"black\" points=\"370.26,-150.98 366.09,-141.24 363.28,-151.46 370.26,-150.98\"/>\n</g>\n<!-- 134245382247248 -->\n<g id=\"node28\" class=\"node\">\n<title>134245382247248</title>\n<polygon fill=\"lightblue\" stroke=\"black\" points=\"438,-275 373,-275 373,-244 438,-244 438,-275\"/>\n<text text-anchor=\"middle\" x=\"405.5\" y=\"-251\" font-family=\"monospace\" font-size=\"10.00\"> (1, 10)</text>\n</g>\n<!-- 134245382247248&#45;&gt;134242067149968 -->\n<g id=\"edge26\" class=\"edge\">\n<title>134245382247248&#45;&gt;134242067149968</title>\n<path fill=\"none\" stroke=\"black\" d=\"M397.33,-243.75C391.92,-233.99 384.81,-221.14 379.12,-210.88\"/>\n<polygon fill=\"black\" stroke=\"black\" points=\"382.12,-209.07 374.22,-202.02 376,-212.46 382.12,-209.07\"/>\n</g>\n</g>\n</svg>\n",
            "text/plain": [
              "<graphviz.graphs.Digraph at 0x7a17aab9e320>"
            ]
          },
          "metadata": {},
          "execution_count": 11
        }
      ]
    },
    {
      "cell_type": "code",
      "source": [
        "train_model_torch(lr=0.1)\n",
        "\n",
        "y_val_predict = model(x_val_tensor).cpu().detach().numpy()\n",
        "plt.scatter(x_val, y_val, label='ground_truth')\n",
        "plt.scatter(x_val, y_val_predict, label='predict')\n",
        "plt.legend()\n",
        "plt.show()"
      ],
      "metadata": {
        "colab": {
          "base_uri": "https://localhost:8080/",
          "height": 481
        },
        "id": "psxpas8K5iPu",
        "outputId": "8e558c68-12be-47a9-cd3c-91b4f3448e9e"
      },
      "execution_count": null,
      "outputs": [
        {
          "output_type": "stream",
          "name": "stdout",
          "text": [
            "train loss:0.015076742477374672\n",
            "test loss:0.010075111983040461\n",
            "Execution time of train_model_torch: 0.9161796569824219 seconds\n"
          ]
        },
        {
          "output_type": "display_data",
          "data": {
            "text/plain": [
              "<Figure size 640x480 with 1 Axes>"
            ],
            "image/png": "[encoded data removed]"
          },
          "metadata": {}
        }
      ]
    },
    {
      "cell_type": "markdown",
      "source": [
        "## AutoGrad and Customized Function"
      ],
      "metadata": {
        "id": "_taEIfo15qL9"
      }
    },
    {
      "cell_type": "code",
      "source": [
        "def custom_fun(x):\n",
        "    x_ = x.clone()\n",
        "    return x_ ** 2\n",
        "\n",
        "class customFun(torch.autograd.Function):\n",
        "    @staticmethod\n",
        "    def forward(ctx, x):\n",
        "        ctx.save_for_backward(x)\n",
        "        return custom_fun(x)\n",
        "\n",
        "    @staticmethod\n",
        "    def backward(ctx, grad_out):\n",
        "        x, = ctx.saved_tensors\n",
        "        return grad_out * 2 * x"
      ],
      "metadata": {
        "id": "djm1xZX_5kFF"
      },
      "execution_count": null,
      "outputs": []
    },
    {
      "cell_type": "code",
      "source": [
        "x = torch.randn(3, 3, requires_grad=True, dtype=torch.double)\n",
        "# Call the class method 'apply', not 'forward' directly\n",
        "print(\"x: {},\\nfun(x):{}\".format(x, customFun.apply(x)))"
      ],
      "metadata": {
        "colab": {
          "base_uri": "https://localhost:8080/"
        },
        "id": "E0kAhliB5tFL",
        "outputId": "89c2009f-09ba-4436-d10b-eee3e3907240"
      },
      "execution_count": null,
      "outputs": [
        {
          "output_type": "stream",
          "name": "stdout",
          "text": [
            "x: tensor([[ 0.6264, -0.3140,  0.6117],\n",
            "        [-0.7530, -0.0658,  0.6626],\n",
            "        [-0.6681,  0.6978, -1.4144]], dtype=torch.float64, requires_grad=True),\n",
            "fun(x):tensor([[0.3923, 0.0986, 0.3742],\n",
            "        [0.5670, 0.0043, 0.4390],\n",
            "        [0.4464, 0.4869, 2.0005]], dtype=torch.float64,\n",
            "       grad_fn=<customFunBackward>)\n"
          ]
        }
      ]
    },
    {
      "cell_type": "code",
      "source": [
        "jacobian_check = torch.autograd.gradcheck(customFun.apply, x)\n",
        "hessian_check = torch.autograd.gradgradcheck(customFun.apply, x)\n",
        "print(\"Check 1st-order gradient: {}, Check 2nd-order gradient: {}\".format(jacobian_check, hessian_check))"
      ],
      "metadata": {
        "colab": {
          "base_uri": "https://localhost:8080/"
        },
        "id": "NLGlXOT05wVk",
        "outputId": "3885cf7c-032f-4362-a721-268af13d2515"
      },
      "execution_count": null,
      "outputs": [
        {
          "output_type": "stream",
          "name": "stdout",
          "text": [
            "Check 1st-order gradient: True, Check 2nd-order gradient: True\n"
          ]
        }
      ]
    },
    {
      "cell_type": "code",
      "source": [
        "class myAct(nn.Module):\n",
        "\n",
        "    def __init__(self):\n",
        "        super(myAct, self).__init__()\n",
        "\n",
        "    def forward(self, input):\n",
        "        return customFun.apply(input)"
      ],
      "metadata": {
        "id": "HL9NVHrt5xXf"
      },
      "execution_count": null,
      "outputs": []
    },
    {
      "cell_type": "code",
      "source": [
        "class DeepRegression_v2(nn.Module):\n",
        "    def __init__(self, hidden_variables=[10, 20, 10], input_output_dim=(1, 1)):\n",
        "        super().__init__()\n",
        "        # Concise Implementation\n",
        "        self.input_variable_dim = input_output_dim[0]\n",
        "        self.output_variable_dim = input_output_dim[1]\n",
        "        self.list_hidden_variable = hidden_variables\n",
        "        self.layer = nn.Sequential()\n",
        "\n",
        "        variable_dim = self.input_variable_dim\n",
        "        for i, hidden_variable in enumerate(self.list_hidden_variable):\n",
        "            self.layer.add_module('layer_' + str(i), nn.Linear(variable_dim, hidden_variable, dtype=torch.float64))\n",
        "            self.layer.add_module('custom_activation_' + str(i), myAct())\n",
        "            variable_dim = hidden_variable\n",
        "        self.layer.add_module('final_layer', nn.Linear(variable_dim, self.output_variable_dim, dtype=torch.float64))\n",
        "\n",
        "    def forward(self, x):\n",
        "    # Computes the outputs / predictions\n",
        "        y_hat = self.layer(x)\n",
        "        return y_hat\n",
        "\n",
        "model = DeepRegression_v2().to(device)\n",
        "make_dot(model(x_train_tensor))"
      ],
      "metadata": {
        "colab": {
          "base_uri": "https://localhost:8080/",
          "height": 934
        },
        "id": "ypzT5I__5yO_",
        "outputId": "40313afd-3a73-412e-d51a-19e928c35ab8"
      },
      "execution_count": null,
      "outputs": [
        {
          "output_type": "execute_result",
          "data": {
            "image/svg+xml": "<?xml version=\"1.0\" encoding=\"UTF-8\" standalone=\"no\"?>\n<!DOCTYPE svg PUBLIC \"-//W3C//DTD SVG 1.1//EN\"\n \"http://www.w3.org/Graphics/SVG/1.1/DTD/svg11.dtd\">\n<!-- Generated by graphviz version 2.43.0 (0)\n -->\n<!-- Title: %3 Pages: 1 -->\n<svg width=\"541pt\" height=\"685pt\"\n viewBox=\"0.00 0.00 540.50 685.00\" xmlns=\"http://www.w3.org/2000/svg\" xmlns:xlink=\"http://www.w3.org/1999/xlink\">\n<g id=\"graph0\" class=\"graph\" transform=\"scale(1 1) rotate(0) translate(4 681)\">\n<title>%3</title>\n<polygon fill=\"white\" stroke=\"transparent\" points=\"-4,4 -4,-681 536.5,-681 536.5,4 -4,4\"/>\n<!-- 134242053977600 -->\n<g id=\"node1\" class=\"node\">\n<title>134242053977600</title>\n<polygon fill=\"#caff70\" stroke=\"black\" points=\"383.5,-31 318.5,-31 318.5,0 383.5,0 383.5,-31\"/>\n<text text-anchor=\"middle\" x=\"351\" y=\"-7\" font-family=\"monospace\" font-size=\"10.00\"> (80, 1)</text>\n</g>\n<!-- 134242054455248 -->\n<g id=\"node2\" class=\"node\">\n<title>134242054455248</title>\n<polygon fill=\"lightgrey\" stroke=\"black\" points=\"401.5,-86 300.5,-86 300.5,-67 401.5,-67 401.5,-86\"/>\n<text text-anchor=\"middle\" x=\"351\" y=\"-74\" font-family=\"monospace\" font-size=\"10.00\">AddmmBackward0</text>\n</g>\n<!-- 134242054455248&#45;&gt;134242053977600 -->\n<g id=\"edge30\" class=\"edge\">\n<title>134242054455248&#45;&gt;134242053977600</title>\n<path fill=\"none\" stroke=\"black\" d=\"M351,-66.79C351,-60.07 351,-50.4 351,-41.34\"/>\n<polygon fill=\"black\" stroke=\"black\" points=\"354.5,-41.19 351,-31.19 347.5,-41.19 354.5,-41.19\"/>\n</g>\n<!-- 134242054454720 -->\n<g id=\"node3\" class=\"node\">\n<title>134242054454720</title>\n<polygon fill=\"lightgrey\" stroke=\"black\" points=\"258.5,-141 157.5,-141 157.5,-122 258.5,-122 258.5,-141\"/>\n<text text-anchor=\"middle\" x=\"208\" y=\"-129\" font-family=\"monospace\" font-size=\"10.00\">AccumulateGrad</text>\n</g>\n<!-- 134242054454720&#45;&gt;134242054455248 -->\n<g id=\"edge1\" class=\"edge\">\n<title>134242054454720&#45;&gt;134242054455248</title>\n<path fill=\"none\" stroke=\"black\" d=\"M230.98,-121.98C254.5,-113.27 291.29,-99.63 317.94,-89.75\"/>\n<polygon fill=\"black\" stroke=\"black\" points=\"319.45,-92.93 327.61,-86.17 317.01,-86.36 319.45,-92.93\"/>\n</g>\n<!-- 134242053977680 -->\n<g id=\"node4\" class=\"node\">\n<title>134242053977680</title>\n<polygon fill=\"lightblue\" stroke=\"black\" points=\"205,-208 151,-208 151,-177 205,-177 205,-208\"/>\n<text text-anchor=\"middle\" x=\"178\" y=\"-184\" font-family=\"monospace\" font-size=\"10.00\"> (1)</text>\n</g>\n<!-- 134242053977680&#45;&gt;134242054454720 -->\n<g id=\"edge2\" class=\"edge\">\n<title>134242053977680&#45;&gt;134242054454720</title>\n<path fill=\"none\" stroke=\"black\" d=\"M185.42,-176.92C189.51,-168.87 194.62,-158.82 198.94,-150.31\"/>\n<polygon fill=\"black\" stroke=\"black\" points=\"202.14,-151.75 203.55,-141.25 195.9,-148.58 202.14,-151.75\"/>\n</g>\n<!-- 134242075911376 -->\n<g id=\"node5\" class=\"node\">\n<title>134242075911376</title>\n<polygon fill=\"lightgrey\" stroke=\"black\" points=\"410.5,-141 291.5,-141 291.5,-122 410.5,-122 410.5,-141\"/>\n<text text-anchor=\"middle\" x=\"351\" y=\"-129\" font-family=\"monospace\" font-size=\"10.00\">customFunBackward</text>\n</g>\n<!-- 134242075911376&#45;&gt;134242054455248 -->\n<g id=\"edge3\" class=\"edge\">\n<title>134242075911376&#45;&gt;134242054455248</title>\n<path fill=\"none\" stroke=\"black\" d=\"M351,-121.75C351,-114.8 351,-104.85 351,-96.13\"/>\n<polygon fill=\"black\" stroke=\"black\" points=\"354.5,-96.09 351,-86.09 347.5,-96.09 354.5,-96.09\"/>\n</g>\n<!-- 134242054454480 -->\n<g id=\"node6\" class=\"node\">\n<title>134242054454480</title>\n<polygon fill=\"lightgrey\" stroke=\"black\" points=\"324.5,-202 223.5,-202 223.5,-183 324.5,-183 324.5,-202\"/>\n<text text-anchor=\"middle\" x=\"274\" y=\"-190\" font-family=\"monospace\" font-size=\"10.00\">AddmmBackward0</text>\n</g>\n<!-- 134242054454480&#45;&gt;134242075911376 -->\n<g id=\"edge4\" class=\"edge\">\n<title>134242054454480&#45;&gt;134242075911376</title>\n<path fill=\"none\" stroke=\"black\" d=\"M285.36,-182.79C297.49,-173.5 316.92,-158.61 331.5,-147.44\"/>\n<polygon fill=\"black\" stroke=\"black\" points=\"334.03,-149.91 339.84,-141.05 329.78,-144.35 334.03,-149.91\"/>\n</g>\n<!-- 134242054454768 -->\n<g id=\"node7\" class=\"node\">\n<title>134242054454768</title>\n<polygon fill=\"lightgrey\" stroke=\"black\" points=\"182.5,-269 81.5,-269 81.5,-250 182.5,-250 182.5,-269\"/>\n<text text-anchor=\"middle\" x=\"132\" y=\"-257\" font-family=\"monospace\" font-size=\"10.00\">AccumulateGrad</text>\n</g>\n<!-- 134242054454768&#45;&gt;134242054454480 -->\n<g id=\"edge5\" class=\"edge\">\n<title>134242054454768&#45;&gt;134242054454480</title>\n<path fill=\"none\" stroke=\"black\" d=\"M150.86,-249.87C175.15,-238.75 217.6,-219.32 245.76,-206.43\"/>\n<polygon fill=\"black\" stroke=\"black\" points=\"247.43,-209.51 255.07,-202.17 244.52,-203.15 247.43,-209.51\"/>\n</g>\n<!-- 134242053977360 -->\n<g id=\"node8\" class=\"node\">\n<title>134242053977360</title>\n<polygon fill=\"lightblue\" stroke=\"black\" points=\"131,-342 77,-342 77,-311 131,-311 131,-342\"/>\n<text text-anchor=\"middle\" x=\"104\" y=\"-318\" font-family=\"monospace\" font-size=\"10.00\"> (10)</text>\n</g>\n<!-- 134242053977360&#45;&gt;134242054454768 -->\n<g id=\"edge6\" class=\"edge\">\n<title>134242053977360&#45;&gt;134242054454768</title>\n<path fill=\"none\" stroke=\"black\" d=\"M110.35,-310.75C114.47,-301.19 119.87,-288.67 124.24,-278.52\"/>\n<polygon fill=\"black\" stroke=\"black\" points=\"127.59,-279.59 128.33,-269.02 121.16,-276.82 127.59,-279.59\"/>\n</g>\n<!-- 134242075912816 -->\n<g id=\"node9\" class=\"node\">\n<title>134242075912816</title>\n<polygon fill=\"lightgrey\" stroke=\"black\" points=\"333.5,-269 214.5,-269 214.5,-250 333.5,-250 333.5,-269\"/>\n<text text-anchor=\"middle\" x=\"274\" y=\"-257\" font-family=\"monospace\" font-size=\"10.00\">customFunBackward</text>\n</g>\n<!-- 134242075912816&#45;&gt;134242054454480 -->\n<g id=\"edge7\" class=\"edge\">\n<title>134242075912816&#45;&gt;134242054454480</title>\n<path fill=\"none\" stroke=\"black\" d=\"M274,-249.73C274,-240.18 274,-224.62 274,-212.28\"/>\n<polygon fill=\"black\" stroke=\"black\" points=\"277.5,-212.13 274,-202.13 270.5,-212.13 277.5,-212.13\"/>\n</g>\n<!-- 134242054454432 -->\n<g id=\"node10\" class=\"node\">\n<title>134242054454432</title>\n<polygon fill=\"lightgrey\" stroke=\"black\" points=\"250.5,-336 149.5,-336 149.5,-317 250.5,-317 250.5,-336\"/>\n<text text-anchor=\"middle\" x=\"200\" y=\"-324\" font-family=\"monospace\" font-size=\"10.00\">AddmmBackward0</text>\n</g>\n<!-- 134242054454432&#45;&gt;134242075912816 -->\n<g id=\"edge8\" class=\"edge\">\n<title>134242054454432&#45;&gt;134242075912816</title>\n<path fill=\"none\" stroke=\"black\" d=\"M209.98,-316.73C221.85,-306.31 241.89,-288.71 256.38,-275.97\"/>\n<polygon fill=\"black\" stroke=\"black\" points=\"258.97,-278.36 264.18,-269.13 254.36,-273.1 258.97,-278.36\"/>\n</g>\n<!-- 134242054446512 -->\n<g id=\"node11\" class=\"node\">\n<title>134242054446512</title>\n<polygon fill=\"lightgrey\" stroke=\"black\" points=\"107.5,-403 6.5,-403 6.5,-384 107.5,-384 107.5,-403\"/>\n<text text-anchor=\"middle\" x=\"57\" y=\"-391\" font-family=\"monospace\" font-size=\"10.00\">AccumulateGrad</text>\n</g>\n<!-- 134242054446512&#45;&gt;134242054454432 -->\n<g id=\"edge9\" class=\"edge\">\n<title>134242054446512&#45;&gt;134242054454432</title>\n<path fill=\"none\" stroke=\"black\" d=\"M75.99,-383.87C100.46,-372.75 143.2,-353.32 171.56,-340.43\"/>\n<polygon fill=\"black\" stroke=\"black\" points=\"173.28,-343.49 180.93,-336.17 170.38,-337.12 173.28,-343.49\"/>\n</g>\n<!-- 134242053976880 -->\n<g id=\"node12\" class=\"node\">\n<title>134242053976880</title>\n<polygon fill=\"lightblue\" stroke=\"black\" points=\"54,-476 0,-476 0,-445 54,-445 54,-476\"/>\n<text text-anchor=\"middle\" x=\"27\" y=\"-452\" font-family=\"monospace\" font-size=\"10.00\"> (20)</text>\n</g>\n<!-- 134242053976880&#45;&gt;134242054446512 -->\n<g id=\"edge10\" class=\"edge\">\n<title>134242053976880&#45;&gt;134242054446512</title>\n<path fill=\"none\" stroke=\"black\" d=\"M33.81,-444.75C38.27,-435.09 44.12,-422.4 48.83,-412.2\"/>\n<polygon fill=\"black\" stroke=\"black\" points=\"52.06,-413.56 53.07,-403.02 45.7,-410.63 52.06,-413.56\"/>\n</g>\n<!-- 134242075912576 -->\n<g id=\"node13\" class=\"node\">\n<title>134242075912576</title>\n<polygon fill=\"lightgrey\" stroke=\"black\" points=\"259.5,-403 140.5,-403 140.5,-384 259.5,-384 259.5,-403\"/>\n<text text-anchor=\"middle\" x=\"200\" y=\"-391\" font-family=\"monospace\" font-size=\"10.00\">customFunBackward</text>\n</g>\n<!-- 134242075912576&#45;&gt;134242054454432 -->\n<g id=\"edge11\" class=\"edge\">\n<title>134242075912576&#45;&gt;134242054454432</title>\n<path fill=\"none\" stroke=\"black\" d=\"M200,-383.73C200,-374.18 200,-358.62 200,-346.28\"/>\n<polygon fill=\"black\" stroke=\"black\" points=\"203.5,-346.13 200,-336.13 196.5,-346.13 203.5,-346.13\"/>\n</g>\n<!-- 134242054446320 -->\n<g id=\"node14\" class=\"node\">\n<title>134242054446320</title>\n<polygon fill=\"lightgrey\" stroke=\"black\" points=\"173.5,-470 72.5,-470 72.5,-451 173.5,-451 173.5,-470\"/>\n<text text-anchor=\"middle\" x=\"123\" y=\"-458\" font-family=\"monospace\" font-size=\"10.00\">AddmmBackward0</text>\n</g>\n<!-- 134242054446320&#45;&gt;134242075912576 -->\n<g id=\"edge12\" class=\"edge\">\n<title>134242054446320&#45;&gt;134242075912576</title>\n<path fill=\"none\" stroke=\"black\" d=\"M133.38,-450.73C145.85,-440.21 166.97,-422.38 182.09,-409.62\"/>\n<polygon fill=\"black\" stroke=\"black\" points=\"184.4,-412.25 189.78,-403.13 179.88,-406.9 184.4,-412.25\"/>\n</g>\n<!-- 134242054447040 -->\n<g id=\"node15\" class=\"node\">\n<title>134242054447040</title>\n<polygon fill=\"lightgrey\" stroke=\"black\" points=\"119.5,-537 18.5,-537 18.5,-518 119.5,-518 119.5,-537\"/>\n<text text-anchor=\"middle\" x=\"69\" y=\"-525\" font-family=\"monospace\" font-size=\"10.00\">AccumulateGrad</text>\n</g>\n<!-- 134242054447040&#45;&gt;134242054446320 -->\n<g id=\"edge13\" class=\"edge\">\n<title>134242054447040&#45;&gt;134242054446320</title>\n<path fill=\"none\" stroke=\"black\" d=\"M76.28,-517.73C84.7,-507.6 98.75,-490.69 109.25,-478.06\"/>\n<polygon fill=\"black\" stroke=\"black\" points=\"112.13,-480.06 115.83,-470.13 106.75,-475.58 112.13,-480.06\"/>\n</g>\n<!-- 134242053966720 -->\n<g id=\"node16\" class=\"node\">\n<title>134242053966720</title>\n<polygon fill=\"lightblue\" stroke=\"black\" points=\"96,-610 42,-610 42,-579 96,-579 96,-610\"/>\n<text text-anchor=\"middle\" x=\"69\" y=\"-586\" font-family=\"monospace\" font-size=\"10.00\"> (10)</text>\n</g>\n<!-- 134242053966720&#45;&gt;134242054447040 -->\n<g id=\"edge14\" class=\"edge\">\n<title>134242053966720&#45;&gt;134242054447040</title>\n<path fill=\"none\" stroke=\"black\" d=\"M69,-578.75C69,-569.39 69,-557.19 69,-547.16\"/>\n<polygon fill=\"black\" stroke=\"black\" points=\"72.5,-547.02 69,-537.02 65.5,-547.02 72.5,-547.02\"/>\n</g>\n<!-- 134242054446944 -->\n<g id=\"node17\" class=\"node\">\n<title>134242054446944</title>\n<polygon fill=\"lightgrey\" stroke=\"black\" points=\"214.5,-537 137.5,-537 137.5,-518 214.5,-518 214.5,-537\"/>\n<text text-anchor=\"middle\" x=\"176\" y=\"-525\" font-family=\"monospace\" font-size=\"10.00\">TBackward0</text>\n</g>\n<!-- 134242054446944&#45;&gt;134242054446320 -->\n<g id=\"edge15\" class=\"edge\">\n<title>134242054446944&#45;&gt;134242054446320</title>\n<path fill=\"none\" stroke=\"black\" d=\"M168.85,-517.73C160.59,-507.6 146.8,-490.69 136.5,-478.06\"/>\n<polygon fill=\"black\" stroke=\"black\" points=\"139.07,-475.67 130.03,-470.13 133.64,-480.09 139.07,-475.67\"/>\n</g>\n<!-- 134242054447328 -->\n<g id=\"node18\" class=\"node\">\n<title>134242054447328</title>\n<polygon fill=\"lightgrey\" stroke=\"black\" points=\"226.5,-604 125.5,-604 125.5,-585 226.5,-585 226.5,-604\"/>\n<text text-anchor=\"middle\" x=\"176\" y=\"-592\" font-family=\"monospace\" font-size=\"10.00\">AccumulateGrad</text>\n</g>\n<!-- 134242054447328&#45;&gt;134242054446944 -->\n<g id=\"edge16\" class=\"edge\">\n<title>134242054447328&#45;&gt;134242054446944</title>\n<path fill=\"none\" stroke=\"black\" d=\"M176,-584.73C176,-575.18 176,-559.62 176,-547.28\"/>\n<polygon fill=\"black\" stroke=\"black\" points=\"179.5,-547.13 176,-537.13 172.5,-547.13 179.5,-547.13\"/>\n</g>\n<!-- 134242053974480 -->\n<g id=\"node19\" class=\"node\">\n<title>134242053974480</title>\n<polygon fill=\"lightblue\" stroke=\"black\" points=\"208.5,-677 143.5,-677 143.5,-646 208.5,-646 208.5,-677\"/>\n<text text-anchor=\"middle\" x=\"176\" y=\"-653\" font-family=\"monospace\" font-size=\"10.00\"> (10, 1)</text>\n</g>\n<!-- 134242053974480&#45;&gt;134242054447328 -->\n<g id=\"edge17\" class=\"edge\">\n<title>134242053974480&#45;&gt;134242054447328</title>\n<path fill=\"none\" stroke=\"black\" d=\"M176,-645.75C176,-636.39 176,-624.19 176,-614.16\"/>\n<polygon fill=\"black\" stroke=\"black\" points=\"179.5,-614.02 176,-604.02 172.5,-614.02 179.5,-614.02\"/>\n</g>\n<!-- 134242053977520 -->\n<g id=\"node20\" class=\"node\">\n<title>134242053977520</title>\n<polygon fill=\"orange\" stroke=\"black\" points=\"262.5,-476 191.5,-476 191.5,-445 262.5,-445 262.5,-476\"/>\n<text text-anchor=\"middle\" x=\"227\" y=\"-452\" font-family=\"monospace\" font-size=\"10.00\"> (80, 10)</text>\n</g>\n<!-- 134242053977520&#45;&gt;134242075912576 -->\n<g id=\"edge18\" class=\"edge\">\n<title>134242053977520&#45;&gt;134242075912576</title>\n<path fill=\"none\" stroke=\"black\" d=\"M220.87,-444.75C216.9,-435.19 211.7,-422.67 207.48,-412.52\"/>\n<polygon fill=\"black\" stroke=\"black\" points=\"210.61,-410.91 203.54,-403.02 204.14,-413.6 210.61,-410.91\"/>\n</g>\n<!-- 134242054446080 -->\n<g id=\"node21\" class=\"node\">\n<title>134242054446080</title>\n<polygon fill=\"lightgrey\" stroke=\"black\" points=\"354.5,-403 277.5,-403 277.5,-384 354.5,-384 354.5,-403\"/>\n<text text-anchor=\"middle\" x=\"316\" y=\"-391\" font-family=\"monospace\" font-size=\"10.00\">TBackward0</text>\n</g>\n<!-- 134242054446080&#45;&gt;134242054454432 -->\n<g id=\"edge19\" class=\"edge\">\n<title>134242054446080&#45;&gt;134242054454432</title>\n<path fill=\"none\" stroke=\"black\" d=\"M300.36,-383.73C280.79,-372.77 247.08,-353.88 224.18,-341.05\"/>\n<polygon fill=\"black\" stroke=\"black\" points=\"225.83,-337.96 215.4,-336.13 222.41,-344.07 225.83,-337.96\"/>\n</g>\n<!-- 134242054454864 -->\n<g id=\"node22\" class=\"node\">\n<title>134242054454864</title>\n<polygon fill=\"lightgrey\" stroke=\"black\" points=\"381.5,-470 280.5,-470 280.5,-451 381.5,-451 381.5,-470\"/>\n<text text-anchor=\"middle\" x=\"331\" y=\"-458\" font-family=\"monospace\" font-size=\"10.00\">AccumulateGrad</text>\n</g>\n<!-- 134242054454864&#45;&gt;134242054446080 -->\n<g id=\"edge20\" class=\"edge\">\n<title>134242054454864&#45;&gt;134242054446080</title>\n<path fill=\"none\" stroke=\"black\" d=\"M328.98,-450.73C326.75,-441.09 323.11,-425.3 320.25,-412.91\"/>\n<polygon fill=\"black\" stroke=\"black\" points=\"323.65,-412.08 317.99,-403.13 316.83,-413.66 323.65,-412.08\"/>\n</g>\n<!-- 134242053978800 -->\n<g id=\"node23\" class=\"node\">\n<title>134242053978800</title>\n<polygon fill=\"lightblue\" stroke=\"black\" points=\"366.5,-543 295.5,-543 295.5,-512 366.5,-512 366.5,-543\"/>\n<text text-anchor=\"middle\" x=\"331\" y=\"-519\" font-family=\"monospace\" font-size=\"10.00\"> (20, 10)</text>\n</g>\n<!-- 134242053978800&#45;&gt;134242054454864 -->\n<g id=\"edge21\" class=\"edge\">\n<title>134242053978800&#45;&gt;134242054454864</title>\n<path fill=\"none\" stroke=\"black\" d=\"M331,-511.75C331,-502.39 331,-490.19 331,-480.16\"/>\n<polygon fill=\"black\" stroke=\"black\" points=\"334.5,-480.02 331,-470.02 327.5,-480.02 334.5,-480.02\"/>\n</g>\n<!-- 134242090981776 -->\n<g id=\"node24\" class=\"node\">\n<title>134242090981776</title>\n<polygon fill=\"orange\" stroke=\"black\" points=\"339.5,-342 268.5,-342 268.5,-311 339.5,-311 339.5,-342\"/>\n<text text-anchor=\"middle\" x=\"304\" y=\"-318\" font-family=\"monospace\" font-size=\"10.00\"> (80, 20)</text>\n</g>\n<!-- 134242090981776&#45;&gt;134242075912816 -->\n<g id=\"edge22\" class=\"edge\">\n<title>134242090981776&#45;&gt;134242075912816</title>\n<path fill=\"none\" stroke=\"black\" d=\"M297.19,-310.75C292.73,-301.09 286.88,-288.4 282.17,-278.2\"/>\n<polygon fill=\"black\" stroke=\"black\" points=\"285.3,-276.63 277.93,-269.02 278.94,-279.56 285.3,-276.63\"/>\n</g>\n<!-- 134242054454672 -->\n<g id=\"node25\" class=\"node\">\n<title>134242054454672</title>\n<polygon fill=\"lightgrey\" stroke=\"black\" points=\"430.5,-269 353.5,-269 353.5,-250 430.5,-250 430.5,-269\"/>\n<text text-anchor=\"middle\" x=\"392\" y=\"-257\" font-family=\"monospace\" font-size=\"10.00\">TBackward0</text>\n</g>\n<!-- 134242054454672&#45;&gt;134242054454480 -->\n<g id=\"edge23\" class=\"edge\">\n<title>134242054454672&#45;&gt;134242054454480</title>\n<path fill=\"none\" stroke=\"black\" d=\"M376.09,-249.73C356.18,-238.77 321.89,-219.88 298.6,-207.05\"/>\n<polygon fill=\"black\" stroke=\"black\" points=\"300.11,-203.89 289.66,-202.13 296.73,-210.02 300.11,-203.89\"/>\n</g>\n<!-- 134242054446752 -->\n<g id=\"node26\" class=\"node\">\n<title>134242054446752</title>\n<polygon fill=\"lightgrey\" stroke=\"black\" points=\"458.5,-336 357.5,-336 357.5,-317 458.5,-317 458.5,-336\"/>\n<text text-anchor=\"middle\" x=\"408\" y=\"-324\" font-family=\"monospace\" font-size=\"10.00\">AccumulateGrad</text>\n</g>\n<!-- 134242054446752&#45;&gt;134242054454672 -->\n<g id=\"edge24\" class=\"edge\">\n<title>134242054446752&#45;&gt;134242054454672</title>\n<path fill=\"none\" stroke=\"black\" d=\"M405.84,-316.73C403.47,-307.09 399.58,-291.3 396.53,-278.91\"/>\n<polygon fill=\"black\" stroke=\"black\" points=\"399.91,-278 394.12,-269.13 393.12,-279.67 399.91,-278\"/>\n</g>\n<!-- 134242053976160 -->\n<g id=\"node27\" class=\"node\">\n<title>134242053976160</title>\n<polygon fill=\"lightblue\" stroke=\"black\" points=\"443.5,-409 372.5,-409 372.5,-378 443.5,-378 443.5,-409\"/>\n<text text-anchor=\"middle\" x=\"408\" y=\"-385\" font-family=\"monospace\" font-size=\"10.00\"> (10, 20)</text>\n</g>\n<!-- 134242053976160&#45;&gt;134242054446752 -->\n<g id=\"edge25\" class=\"edge\">\n<title>134242053976160&#45;&gt;134242054446752</title>\n<path fill=\"none\" stroke=\"black\" d=\"M408,-377.75C408,-368.39 408,-356.19 408,-346.16\"/>\n<polygon fill=\"black\" stroke=\"black\" points=\"411.5,-346.02 408,-336.02 404.5,-346.02 411.5,-346.02\"/>\n</g>\n<!-- 134242053968880 -->\n<g id=\"node28\" class=\"node\">\n<title>134242053968880</title>\n<polygon fill=\"orange\" stroke=\"black\" points=\"413.5,-208 342.5,-208 342.5,-177 413.5,-177 413.5,-208\"/>\n<text text-anchor=\"middle\" x=\"378\" y=\"-184\" font-family=\"monospace\" font-size=\"10.00\"> (80, 10)</text>\n</g>\n<!-- 134242053968880&#45;&gt;134242075911376 -->\n<g id=\"edge26\" class=\"edge\">\n<title>134242053968880&#45;&gt;134242075911376</title>\n<path fill=\"none\" stroke=\"black\" d=\"M371.33,-176.92C367.68,-168.96 363.14,-159.04 359.28,-150.59\"/>\n<polygon fill=\"black\" stroke=\"black\" points=\"362.35,-148.89 355,-141.25 355.98,-151.8 362.35,-148.89\"/>\n</g>\n<!-- 134242054455152 -->\n<g id=\"node29\" class=\"node\">\n<title>134242054455152</title>\n<polygon fill=\"lightgrey\" stroke=\"black\" points=\"512.5,-141 435.5,-141 435.5,-122 512.5,-122 512.5,-141\"/>\n<text text-anchor=\"middle\" x=\"474\" y=\"-129\" font-family=\"monospace\" font-size=\"10.00\">TBackward0</text>\n</g>\n<!-- 134242054455152&#45;&gt;134242054455248 -->\n<g id=\"edge27\" class=\"edge\">\n<title>134242054455152&#45;&gt;134242054455248</title>\n<path fill=\"none\" stroke=\"black\" d=\"M454.24,-121.98C434.27,-113.38 403.2,-99.99 380.35,-90.15\"/>\n<polygon fill=\"black\" stroke=\"black\" points=\"381.69,-86.91 371.12,-86.17 378.92,-93.34 381.69,-86.91\"/>\n</g>\n<!-- 134242054454912 -->\n<g id=\"node30\" class=\"node\">\n<title>134242054454912</title>\n<polygon fill=\"lightgrey\" stroke=\"black\" points=\"532.5,-202 431.5,-202 431.5,-183 532.5,-183 532.5,-202\"/>\n<text text-anchor=\"middle\" x=\"482\" y=\"-190\" font-family=\"monospace\" font-size=\"10.00\">AccumulateGrad</text>\n</g>\n<!-- 134242054454912&#45;&gt;134242054455152 -->\n<g id=\"edge28\" class=\"edge\">\n<title>134242054454912&#45;&gt;134242054455152</title>\n<path fill=\"none\" stroke=\"black\" d=\"M480.82,-182.79C479.7,-174.52 477.97,-161.79 476.54,-151.21\"/>\n<polygon fill=\"black\" stroke=\"black\" points=\"480,-150.68 475.19,-141.24 473.06,-151.62 480,-150.68\"/>\n</g>\n<!-- 134242053979280 -->\n<g id=\"node31\" class=\"node\">\n<title>134242053979280</title>\n<polygon fill=\"lightblue\" stroke=\"black\" points=\"514.5,-275 449.5,-275 449.5,-244 514.5,-244 514.5,-275\"/>\n<text text-anchor=\"middle\" x=\"482\" y=\"-251\" font-family=\"monospace\" font-size=\"10.00\"> (1, 10)</text>\n</g>\n<!-- 134242053979280&#45;&gt;134242054454912 -->\n<g id=\"edge29\" class=\"edge\">\n<title>134242053979280&#45;&gt;134242054454912</title>\n<path fill=\"none\" stroke=\"black\" d=\"M482,-243.75C482,-234.39 482,-222.19 482,-212.16\"/>\n<polygon fill=\"black\" stroke=\"black\" points=\"485.5,-212.02 482,-202.02 478.5,-212.02 485.5,-212.02\"/>\n</g>\n</g>\n</svg>\n",
            "text/plain": [
              "<graphviz.graphs.Digraph at 0x7a17a9f83fa0>"
            ]
          },
          "metadata": {},
          "execution_count": 35
        }
      ]
    },
    {
      "cell_type": "code",
      "source": [
        "train_model_torch(lr=0.1)\n",
        "\n",
        "y_val_predict = model(x_val_tensor).cpu().detach().numpy()\n",
        "plt.scatter(x_val, y_val, label='ground_truth')\n",
        "plt.scatter(x_val, y_val_predict, label='predict')\n",
        "plt.legend()\n",
        "plt.show()"
      ],
      "metadata": {
        "colab": {
          "base_uri": "https://localhost:8080/",
          "height": 481
        },
        "id": "iJRk665g5zXZ",
        "outputId": "eae017cf-862b-4665-dfcc-b7d256550bc2"
      },
      "execution_count": null,
      "outputs": [
        {
          "output_type": "stream",
          "name": "stdout",
          "text": [
            "train loss:0.022758551652332606\n",
            "test loss:0.022282680766483386\n",
            "Execution time of train_model_torch: 0.6173388957977295 seconds\n"
          ]
        },
        {
          "output_type": "display_data",
          "data": {
            "text/plain": [
              "<Figure size 640x480 with 1 Axes>"
            ],
            "image/png": "[encoded data removed]"
          },
          "metadata": {}
        }
      ]
    },
    {
      "cell_type": "markdown",
      "source": [
        "## Modularization"
      ],
      "metadata": {
        "id": "Qfk7XcMO52fj"
      }
    },
    {
      "cell_type": "code",
      "source": [
        "def make_train_step(model, loss_fn, optimizer):\n",
        "    def train_step_fn(x, y):\n",
        "\n",
        "        model.train()\n",
        "        y_hat = model(x)\n",
        "        loss = loss_fn(y_hat, y)\n",
        "        loss.backward()\n",
        "        optimizer.step()\n",
        "        optimizer.zero_grad()\n",
        "\n",
        "        return loss.item()\n",
        "    return train_step_fn"
      ],
      "metadata": {
        "id": "RHAPaagT51Ev"
      },
      "execution_count": null,
      "outputs": []
    },
    {
      "cell_type": "code",
      "source": [
        "lr = 0.1\n",
        "epochs = 1000\n",
        "model = DeepRegression_v2().to(device)\n",
        "optimizer = optim.SGD(model.parameters(), lr=lr)\n",
        "loss_fn = nn.MSELoss(reduction='mean')\n",
        "train_step = make_train_step(model, loss_fn, optimizer)"
      ],
      "metadata": {
        "id": "DhDpNeNj53w1"
      },
      "execution_count": null,
      "outputs": []
    },
    {
      "cell_type": "code",
      "source": [
        "@timer\n",
        "def train_model(epochs=1000):\n",
        "\n",
        "    for epoch in range(epochs):\n",
        "        loss = train_step(x_train_tensor, y_train_tensor)\n",
        "\n",
        "        # Evaluate train loss\n",
        "        if epoch % 100 == 0:\n",
        "            print(\"train loss at {} epoch:{}\".format(epoch, loss))\n",
        "            train_losses.append(loss)\n",
        "\n",
        "    # Evaluate valid loss\n",
        "    with torch.no_grad():\n",
        "        y_hat_val = model(x_val_tensor)\n",
        "        test_loss = loss_fn(y_hat_val, y_val_tensor).detach()\n",
        "        print(\"test loss:{}\".format(test_loss))\n",
        "\n",
        "    return test_loss"
      ],
      "metadata": {
        "id": "nbxvWh5A542b"
      },
      "execution_count": null,
      "outputs": []
    },
    {
      "cell_type": "code",
      "source": [
        "train_losses = []\n",
        "test_loss = train_model(epochs)"
      ],
      "metadata": {
        "colab": {
          "base_uri": "https://localhost:8080/"
        },
        "id": "pPCJLLgl56IK",
        "outputId": "f656f290-de2b-4b69-8987-c2943a2512d1"
      },
      "execution_count": null,
      "outputs": [
        {
          "output_type": "stream",
          "name": "stdout",
          "text": [
            "train loss at 0 epoch:0.647819881496899\n",
            "train loss at 100 epoch:0.3450919045826388\n",
            "train loss at 200 epoch:0.1116978226052161\n",
            "train loss at 300 epoch:0.1317030077222657\n",
            "train loss at 400 epoch:0.07133848502483141\n",
            "train loss at 500 epoch:0.07597403392191124\n",
            "train loss at 600 epoch:0.040627941895731094\n",
            "train loss at 700 epoch:0.03208127687094099\n",
            "train loss at 800 epoch:0.0281351776109398\n",
            "train loss at 900 epoch:0.025551935396895414\n",
            "test loss:0.013010960989276473\n",
            "Execution time of train_model: 0.8576440811157227 seconds\n"
          ]
        }
      ]
    },
    {
      "cell_type": "code",
      "source": [
        "y_val_predict = model(x_val_tensor).cpu().detach().numpy()\n",
        "plt.scatter(x_val, y_val, label='ground_truth')\n",
        "plt.scatter(x_val, y_val_predict, label='predict')\n",
        "plt.legend()\n",
        "plt.show()"
      ],
      "metadata": {
        "colab": {
          "base_uri": "https://localhost:8080/",
          "height": 430
        },
        "id": "dialzxiH57Q-",
        "outputId": "43b3603d-9f7d-489f-9d58-ac183c8bd8ca"
      },
      "execution_count": null,
      "outputs": [
        {
          "output_type": "display_data",
          "data": {
            "text/plain": [
              "<Figure size 640x480 with 1 Axes>"
            ],
            "image/png": "[encoded data removed]"
          },
          "metadata": {}
        }
      ]
    },
    {
      "cell_type": "code",
      "source": [
        "checkpoint = {'epochs': epochs,\n",
        "              'model_state_dict': model.state_dict(),\n",
        "              'optimizer_state_dict': optimizer.state_dict(),\n",
        "              'train_loss': train_losses,\n",
        "              'test_loss': test_loss\n",
        "              }\n",
        "\n",
        "torch.save(checkpoint, 'model_checkpoint.pth')"
      ],
      "metadata": {
        "id": "njWkEb8D58rc"
      },
      "execution_count": null,
      "outputs": []
    },
    {
      "cell_type": "code",
      "source": [
        "del epochs, model, optimizer, train_losses, test_loss"
      ],
      "metadata": {
        "id": "cG1Fd29b59wM"
      },
      "execution_count": null,
      "outputs": []
    },
    {
      "cell_type": "code",
      "source": [
        "model"
      ],
      "metadata": {
        "colab": {
          "base_uri": "https://localhost:8080/",
          "height": 164
        },
        "id": "iVo0QsC95_jl",
        "outputId": "df83c3c7-c3f4-4640-a35c-e4c50fb7d9e7"
      },
      "execution_count": null,
      "outputs": [
        {
          "output_type": "error",
          "ename": "NameError",
          "evalue": "ignored",
          "traceback": [
            "\u001b[0;31m---------------------------------------------------------------------------\u001b[0m",
            "\u001b[0;31mNameError\u001b[0m                                 Traceback (most recent call last)",
            "\u001b[0;32m<ipython-input-27-1f8a688cae5d>\u001b[0m in \u001b[0;36m<cell line: 1>\u001b[0;34m()\u001b[0m\n\u001b[0;32m----> 1\u001b[0;31m \u001b[0mmodel\u001b[0m\u001b[0;34m\u001b[0m\u001b[0;34m\u001b[0m\u001b[0m\n\u001b[0m",
            "\u001b[0;31mNameError\u001b[0m: name 'model' is not defined"
          ]
        }
      ]
    },
    {
      "cell_type": "code",
      "source": [
        "model = DeepRegression_v2().to(device)\n",
        "model.load_state_dict(checkpoint['model_state_dict'])"
      ],
      "metadata": {
        "colab": {
          "base_uri": "https://localhost:8080/"
        },
        "id": "drp8J7HJ6AfX",
        "outputId": "fe79f2af-7e1e-42f6-cf86-fb3299b643e2"
      },
      "execution_count": null,
      "outputs": [
        {
          "output_type": "execute_result",
          "data": {
            "text/plain": [
              "<All keys matched successfully>"
            ]
          },
          "metadata": {},
          "execution_count": 28
        }
      ]
    },
    {
      "cell_type": "code",
      "source": [
        "y_val_predict = model(x_val_tensor).cpu().detach().numpy()\n",
        "plt.scatter(x_val, y_val, label='ground_truth')\n",
        "plt.scatter(x_val, y_val_predict, label='predict')\n",
        "plt.legend()\n",
        "plt.show()"
      ],
      "metadata": {
        "colab": {
          "base_uri": "https://localhost:8080/",
          "height": 430
        },
        "id": "h-63j3936BpD",
        "outputId": "1a17bee9-64b3-4af8-bde6-5a795783c1cf"
      },
      "execution_count": null,
      "outputs": [
        {
          "output_type": "display_data",
          "data": {
            "text/plain": [
              "<Figure size 640x480 with 1 Axes>"
            ],
            "image/png": "[encoded data removed]"
          },
          "metadata": {}
        }
      ]
    },
    {
      "cell_type": "markdown",
      "source": [
        "## MNIST Classification"
      ],
      "metadata": {
        "id": "QNBGPxFw6EtW"
      }
    },
    {
      "cell_type": "code",
      "source": [
        "lr = 0.1\n",
        "epochs = 100\n",
        "min_batch = 512"
      ],
      "metadata": {
        "id": "p1fRC2Gq6ChC"
      },
      "execution_count": null,
      "outputs": []
    },
    {
      "cell_type": "code",
      "source": [
        "import torch.utils.data as data\n",
        "import torchvision as tv\n",
        "\n",
        "train_dataset = tv.datasets.MNIST(\".\", download=True, train=True, transform=tv.transforms.ToTensor())\n",
        "test_dataset = tv.datasets.MNIST(\".\", download=True, train=False, transform=tv.transforms.ToTensor())"
      ],
      "metadata": {
        "id": "NK5ABvEc6HjU"
      },
      "execution_count": null,
      "outputs": []
    },
    {
      "cell_type": "code",
      "source": [
        "from torch.utils.data.dataloader import DataLoader\n",
        "train_loader = DataLoader(dataset=train_dataset, batch_size=min_batch, shuffle=True)\n",
        "test_loader = DataLoader(dataset=test_dataset, batch_size=min_batch, shuffle=False)"
      ],
      "metadata": {
        "id": "tTdPaZqe6JHB"
      },
      "execution_count": null,
      "outputs": []
    },
    {
      "cell_type": "code",
      "source": [
        "class DeepClassification(nn.Module):\n",
        "    def __init__(self, hidden_variables=[128, 64, 10], input_output_dim=(28*28, 10)):\n",
        "        super().__init__()\n",
        "        # Concise Implementation\n",
        "        self.input_variable_dim = input_output_dim[0]\n",
        "        self.output_variable_dim = input_output_dim[1]\n",
        "        self.list_hidden_variable = hidden_variables\n",
        "        self.layer = nn.Sequential()\n",
        "\n",
        "        variable_dim = self.input_variable_dim\n",
        "        for i, hidden_variable in enumerate(self.list_hidden_variable):\n",
        "            self.layer.add_module('layer_' + str(i), nn.Linear(variable_dim, hidden_variable))\n",
        "            self.layer.add_module('custom_activation_' + str(i), nn.ReLU())\n",
        "            variable_dim = hidden_variable\n",
        "        self.layer.add_module('final_layer', nn.Linear(variable_dim, self.output_variable_dim))\n",
        "\n",
        "    def forward(self, x):\n",
        "    # Computes the outputs / predictions\n",
        "        x = x.view(-1, 28*28)\n",
        "        y_hat = self.layer(x)\n",
        "        return y_hat"
      ],
      "metadata": {
        "id": "UZZBIUfk6J_8"
      },
      "execution_count": null,
      "outputs": []
    },
    {
      "cell_type": "code",
      "source": [
        "model = DeepClassification().to(device)\n",
        "loss_fn = nn.CrossEntropyLoss()\n",
        "optimizer = optim.SGD(model.parameters(), lr=lr)\n",
        "train_step = make_train_step(model, loss_fn, optimizer)"
      ],
      "metadata": {
        "id": "yFa3swUo6LKA"
      },
      "execution_count": null,
      "outputs": []
    },
    {
      "cell_type": "code",
      "source": [
        "def evaluate_step(x, y):\n",
        "    y_hat = model(x)\n",
        "    result = torch.sum(torch.argmax(y_hat, axis=1) == y)\n",
        "    return result, len(y)\n",
        "\n",
        "@timer\n",
        "def train_model_classification(epochs=1000, eval_test_accuracy=False):\n",
        "    train_losses = []\n",
        "    for epoch in range(epochs):\n",
        "        mini_batch_losses = []\n",
        "        for x_minibatch, y_minibatch in train_loader:\n",
        "            x_minibatch = x_minibatch.to(device)\n",
        "            y_minibatch = y_minibatch.to(device)\n",
        "            mini_batch_loss = train_step(x_minibatch, y_minibatch)\n",
        "            mini_batch_losses.append(mini_batch_loss)\n",
        "\n",
        "        # Evaluate train loss\n",
        "        if (epoch + 1) % 10 == 0:\n",
        "            loss = np.mean(mini_batch_losses)\n",
        "            print(\"train loss at {} epoch:{}\".format(epoch + 1, loss))\n",
        "            train_losses.append(loss)\n",
        "\n",
        "    if eval_test_accuracy:\n",
        "        # Evaluate test accuracy\n",
        "        with torch.no_grad():\n",
        "            test_accuracy = 0\n",
        "            test_result = 0\n",
        "            test_cnt = 0\n",
        "            for x_minibatch_test, y_minibatch_test in test_loader:\n",
        "                x_minibatch_test = x_minibatch_test.to(device)\n",
        "                y_minibatch_test = y_minibatch_test.to(device)\n",
        "                result, cnt = evaluate_step(x_minibatch_test, y_minibatch_test)\n",
        "                test_result += result\n",
        "                test_cnt += cnt\n",
        "            test_accuracy = 100 * test_result / test_cnt\n",
        "            print(\"test accuracy: {}%\".format(test_accuracy))\n",
        "\n",
        "    return train_losses"
      ],
      "metadata": {
        "id": "UgjPdd2e6MQk"
      },
      "execution_count": null,
      "outputs": []
    },
    {
      "cell_type": "code",
      "source": [
        "train_loss = train_model_classification(epochs=100, eval_test_accuracy=True)"
      ],
      "metadata": {
        "id": "kVtb0vaB6Nr2"
      },
      "execution_count": null,
      "outputs": []
    },
    {
      "cell_type": "code",
      "source": [
        "!pip install idx2numpy"
      ],
      "metadata": {
        "id": "pCYlC7iE5i_E"
      },
      "execution_count": null,
      "outputs": []
    },
    {
      "cell_type": "code",
      "source": [
        "import gzip, idx2numpy\n",
        "\n",
        "class custom_MNIST_train_dataset(torch.utils.data.Dataset):\n",
        "    def __init__(self, data_dir, train=True, transform=None):\n",
        "\n",
        "        self.data_dir = data_dir\n",
        "\n",
        "        if train:\n",
        "            self.input_path = 'train-images-idx3-ubyte.gz'\n",
        "            self.target_path = 'train-labels-idx1-ubyte.gz'\n",
        "        else:\n",
        "            self.input_path = 't10k-images-idx3-ubyte.gz'\n",
        "            self.target_path = 't10k-labels-idx1-ubyte.gz'\n",
        "\n",
        "        with gzip.open(self.data_dir + self.target_path, 'rb') as target_file:\n",
        "            self.target = idx2numpy.convert_from_file(target_file).reshape(-1 ,1)\n",
        "\n",
        "        if transform is None:\n",
        "            self.transform = torch.Tensor\n",
        "        else:\n",
        "            self.transform = transform\n",
        "\n",
        "    def __len__(self):\n",
        "        return len(self.target)\n",
        "\n",
        "    def __getitem__(self, index):\n",
        "\n",
        "        with gzip.open(self.data_dir + self.input_path, 'rb') as input_file:\n",
        "            self.input = idx2numpy.convert_from_file(input_file)[index]\n",
        "\n",
        "        img = self.transform(self.input)\n",
        "        label = self.transform(self.target[index])\n",
        "\n",
        "        return img, label"
      ],
      "metadata": {
        "id": "Hd1V6TKJ5Fz1"
      },
      "execution_count": null,
      "outputs": []
    },
    {
      "cell_type": "code",
      "source": [
        "custom_train_data = custom_MNIST_train_dataset('.', train=True)\n",
        "custom_test_data = custom_MNIST_train_dataset('.', train=False)\n",
        "\n",
        "train_loader = DataLoader(dataset=custom_train_data, batch_size=min_batch, shuffle=True)\n",
        "test_loader = DataLoader(dataset=custom_test_data, batch_size=min_batch, shuffle=False)"
      ],
      "metadata": {
        "id": "4fP8KKZsRnWO"
      },
      "execution_count": null,
      "outputs": []
    }
  ]
}